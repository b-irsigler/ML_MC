{
 "cells": [
  {
   "cell_type": "code",
   "execution_count": null,
   "id": "diverse-insight",
   "metadata": {},
   "outputs": [],
   "source": [
    "\"\"\"\n",
    "This notebook builds a small Monte Carlo programm to create data of the exact cover problem.\n",
    "\"\"\""
   ]
  },
  {
   "cell_type": "code",
   "execution_count": 1,
   "id": "touched-conducting",
   "metadata": {},
   "outputs": [],
   "source": [
    "import numpy as np\n",
    "import matplotlib.pyplot as plt"
   ]
  },
  {
   "cell_type": "code",
   "execution_count": 71,
   "id": "ancient-contrast",
   "metadata": {},
   "outputs": [],
   "source": [
    "class MC_EC3:\n",
    "    # This is a class for the exact coer 3 problem. \n",
    "    \n",
    "    def __init__(self, num_spins):\n",
    "        # Construct an instance with num_spins of desired spins.\n",
    "        self.num_spins = num_spins\n",
    "    \n",
    "    def random_clauses(self, num_clauses):\n",
    "        # Sample num_clauses random clauses.\n",
    "        self.num_clauses = num_clauses\n",
    "        clauses = np.zeros((self.num_spins, 3), dtype=int)\n",
    "        for i in range(self.num_spins):\n",
    "            # Sample three spin indices.\n",
    "            clauses[i] = np.random.choice(np.arange(self.num_spins), 3, replace=False)\n",
    "        self.clauses = clauses\n",
    "        \n",
    "    def initial_state(self):\n",
    "        # States contain 1, -1 spin orientations.\n",
    "        self.state = (-1)**np.random.randint(0, 2, self.num_spins)\n",
    "        \n",
    "    def hamiltonian(self):\n",
    "        # Construct classical Hamiltonian from given state and clauses.\n",
    "        energy = 0\n",
    "        for i in range(self.num_clauses):\n",
    "            energy += (self.state[self.clauses[i]].sum() - 1)**2\n",
    "        self.energy = energy\n",
    "        return energy\n",
    "    \n",
    "    def flip_spin(self, i):\n",
    "        self.state[i] = - self.state[i]\n",
    "        "
   ]
  },
  {
   "cell_type": "code",
   "execution_count": 72,
   "id": "interpreted-yahoo",
   "metadata": {},
   "outputs": [],
   "source": [
    "mc_ec3 = MC_EC3(7)"
   ]
  },
  {
   "cell_type": "code",
   "execution_count": 73,
   "id": "flying-registrar",
   "metadata": {},
   "outputs": [],
   "source": [
    "mc_ec3.random_clauses(6)"
   ]
  },
  {
   "cell_type": "code",
   "execution_count": 75,
   "id": "studied-gross",
   "metadata": {},
   "outputs": [],
   "source": [
    "mc_ec3.initial_state()"
   ]
  },
  {
   "cell_type": "code",
   "execution_count": 80,
   "id": "complete-poison",
   "metadata": {},
   "outputs": [
    {
     "data": {
      "text/plain": [
       "4"
      ]
     },
     "execution_count": 80,
     "metadata": {},
     "output_type": "execute_result"
    }
   ],
   "source": [
    "mc_ec3.hamiltonian()"
   ]
  },
  {
   "cell_type": "code",
   "execution_count": 79,
   "id": "parallel-military",
   "metadata": {},
   "outputs": [
    {
     "data": {
      "text/plain": [
       "array([-1,  1,  1,  1, -1, -1,  1])"
      ]
     },
     "execution_count": 79,
     "metadata": {},
     "output_type": "execute_result"
    }
   ],
   "source": [
    "mc_ec3.state"
   ]
  },
  {
   "cell_type": "code",
   "execution_count": 78,
   "id": "exact-nerve",
   "metadata": {},
   "outputs": [],
   "source": [
    "mc_ec3.flip_spin(0)"
   ]
  },
  {
   "cell_type": "code",
   "execution_count": null,
   "id": "honey-alaska",
   "metadata": {},
   "outputs": [],
   "source": []
  }
 ],
 "metadata": {
  "kernelspec": {
   "display_name": "Python 3",
   "language": "python",
   "name": "python3"
  },
  "language_info": {
   "codemirror_mode": {
    "name": "ipython",
    "version": 3
   },
   "file_extension": ".py",
   "mimetype": "text/x-python",
   "name": "python",
   "nbconvert_exporter": "python",
   "pygments_lexer": "ipython3",
   "version": "3.9.1"
  }
 },
 "nbformat": 4,
 "nbformat_minor": 5
}
