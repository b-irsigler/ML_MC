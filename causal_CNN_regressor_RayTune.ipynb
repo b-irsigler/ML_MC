{
  "nbformat": 4,
  "nbformat_minor": 5,
  "metadata": {
    "kernelspec": {
      "display_name": "Python 3",
      "language": "python",
      "name": "python3"
    },
    "language_info": {
      "codemirror_mode": {
        "name": "ipython",
        "version": 3
      },
      "file_extension": ".py",
      "mimetype": "text/x-python",
      "name": "python",
      "nbconvert_exporter": "python",
      "pygments_lexer": "ipython3",
      "version": "3.8.6"
    },
    "colab": {
      "name": "causal_CNN_regressor_RayTune.ipynb",
      "provenance": [],
      "include_colab_link": true
    },
    "accelerator": "GPU"
  },
  "cells": [
    {
      "cell_type": "markdown",
      "metadata": {
        "id": "view-in-github",
        "colab_type": "text"
      },
      "source": [
        "<a href=\"https://colab.research.google.com/github/b-irsigler/ML_MC/blob/main/causal_CNN_regressor_RayTune.ipynb\" target=\"_parent\"><img src=\"https://colab.research.google.com/assets/colab-badge.svg\" alt=\"Open In Colab\"/></a>"
      ]
    },
    {
      "cell_type": "markdown",
      "metadata": {
        "id": "fkREXZ7Q0oFb"
      },
      "source": [
        "Regressor that works on Google Colab.\n",
        "Keras implementation with RayTune hyperparameter search."
      ],
      "id": "fkREXZ7Q0oFb"
    },
    {
      "cell_type": "code",
      "metadata": {
        "colab": {
          "base_uri": "https://localhost:8080/"
        },
        "id": "XhxzRWPMEAfZ",
        "outputId": "be2d9ceb-aef3-435f-cc5b-0f836fccbd6a"
      },
      "source": [
        "from google.colab import drive\n",
        "drive.mount('/content/drive')"
      ],
      "id": "XhxzRWPMEAfZ",
      "execution_count": null,
      "outputs": [
        {
          "output_type": "stream",
          "name": "stdout",
          "text": [
            "Mounted at /content/drive\n"
          ]
        }
      ]
    },
    {
      "cell_type": "code",
      "metadata": {
        "colab": {
          "base_uri": "https://localhost:8080/"
        },
        "id": "nSMg8txgEN_r",
        "outputId": "d5730c6b-a660-4869-ec1d-dbe5b834a3d8"
      },
      "source": [
        "!ls /content/drive/"
      ],
      "id": "nSMg8txgEN_r",
      "execution_count": null,
      "outputs": [
        {
          "output_type": "stream",
          "name": "stdout",
          "text": [
            "MyDrive\n"
          ]
        }
      ]
    },
    {
      "cell_type": "code",
      "metadata": {
        "id": "pTZxElfafOcg",
        "colab": {
          "base_uri": "https://localhost:8080/"
        },
        "outputId": "2bd9d1cb-3a32-4b9b-81c0-7cc543393c27"
      },
      "source": [
        "# workaround needed in Colab\n",
        "!pip install tensorflow==2.0\n",
        "import tensorflow as tf\n",
        "print(tf.__version__)"
      ],
      "id": "pTZxElfafOcg",
      "execution_count": null,
      "outputs": [
        {
          "output_type": "stream",
          "name": "stdout",
          "text": [
            "Collecting tensorflow==2.0\n",
            "  Downloading tensorflow-2.0.0-cp37-cp37m-manylinux2010_x86_64.whl (86.3 MB)\n",
            "\u001b[K     |████████████████████████████████| 86.3 MB 13 kB/s \n",
            "\u001b[?25hRequirement already satisfied: six>=1.10.0 in /usr/local/lib/python3.7/dist-packages (from tensorflow==2.0) (1.15.0)\n",
            "Requirement already satisfied: absl-py>=0.7.0 in /usr/local/lib/python3.7/dist-packages (from tensorflow==2.0) (0.12.0)\n",
            "Collecting tensorflow-estimator<2.1.0,>=2.0.0\n",
            "  Downloading tensorflow_estimator-2.0.1-py2.py3-none-any.whl (449 kB)\n",
            "\u001b[K     |████████████████████████████████| 449 kB 41.8 MB/s \n",
            "\u001b[?25hRequirement already satisfied: numpy<2.0,>=1.16.0 in /usr/local/lib/python3.7/dist-packages (from tensorflow==2.0) (1.19.5)\n",
            "Requirement already satisfied: wheel>=0.26 in /usr/local/lib/python3.7/dist-packages (from tensorflow==2.0) (0.37.0)\n",
            "Requirement already satisfied: termcolor>=1.1.0 in /usr/local/lib/python3.7/dist-packages (from tensorflow==2.0) (1.1.0)\n",
            "Requirement already satisfied: google-pasta>=0.1.6 in /usr/local/lib/python3.7/dist-packages (from tensorflow==2.0) (0.2.0)\n",
            "Collecting tensorboard<2.1.0,>=2.0.0\n",
            "  Downloading tensorboard-2.0.2-py3-none-any.whl (3.8 MB)\n",
            "\u001b[K     |████████████████████████████████| 3.8 MB 21.9 MB/s \n",
            "\u001b[?25hRequirement already satisfied: wrapt>=1.11.1 in /usr/local/lib/python3.7/dist-packages (from tensorflow==2.0) (1.12.1)\n",
            "Collecting gast==0.2.2\n",
            "  Downloading gast-0.2.2.tar.gz (10 kB)\n",
            "Requirement already satisfied: astor>=0.6.0 in /usr/local/lib/python3.7/dist-packages (from tensorflow==2.0) (0.8.1)\n",
            "Requirement already satisfied: keras-preprocessing>=1.0.5 in /usr/local/lib/python3.7/dist-packages (from tensorflow==2.0) (1.1.2)\n",
            "Requirement already satisfied: protobuf>=3.6.1 in /usr/local/lib/python3.7/dist-packages (from tensorflow==2.0) (3.17.3)\n",
            "Requirement already satisfied: grpcio>=1.8.6 in /usr/local/lib/python3.7/dist-packages (from tensorflow==2.0) (1.41.0)\n",
            "Requirement already satisfied: opt-einsum>=2.3.2 in /usr/local/lib/python3.7/dist-packages (from tensorflow==2.0) (3.3.0)\n",
            "Collecting keras-applications>=1.0.8\n",
            "  Downloading Keras_Applications-1.0.8-py3-none-any.whl (50 kB)\n",
            "\u001b[K     |████████████████████████████████| 50 kB 6.4 MB/s \n",
            "\u001b[?25hRequirement already satisfied: h5py in /usr/local/lib/python3.7/dist-packages (from keras-applications>=1.0.8->tensorflow==2.0) (3.1.0)\n",
            "Requirement already satisfied: google-auth<2,>=1.6.3 in /usr/local/lib/python3.7/dist-packages (from tensorboard<2.1.0,>=2.0.0->tensorflow==2.0) (1.35.0)\n",
            "Requirement already satisfied: requests<3,>=2.21.0 in /usr/local/lib/python3.7/dist-packages (from tensorboard<2.1.0,>=2.0.0->tensorflow==2.0) (2.23.0)\n",
            "Requirement already satisfied: markdown>=2.6.8 in /usr/local/lib/python3.7/dist-packages (from tensorboard<2.1.0,>=2.0.0->tensorflow==2.0) (3.3.4)\n",
            "Requirement already satisfied: werkzeug>=0.11.15 in /usr/local/lib/python3.7/dist-packages (from tensorboard<2.1.0,>=2.0.0->tensorflow==2.0) (1.0.1)\n",
            "Requirement already satisfied: google-auth-oauthlib<0.5,>=0.4.1 in /usr/local/lib/python3.7/dist-packages (from tensorboard<2.1.0,>=2.0.0->tensorflow==2.0) (0.4.6)\n",
            "Requirement already satisfied: setuptools>=41.0.0 in /usr/local/lib/python3.7/dist-packages (from tensorboard<2.1.0,>=2.0.0->tensorflow==2.0) (57.4.0)\n",
            "Requirement already satisfied: pyasn1-modules>=0.2.1 in /usr/local/lib/python3.7/dist-packages (from google-auth<2,>=1.6.3->tensorboard<2.1.0,>=2.0.0->tensorflow==2.0) (0.2.8)\n",
            "Requirement already satisfied: cachetools<5.0,>=2.0.0 in /usr/local/lib/python3.7/dist-packages (from google-auth<2,>=1.6.3->tensorboard<2.1.0,>=2.0.0->tensorflow==2.0) (4.2.4)\n",
            "Requirement already satisfied: rsa<5,>=3.1.4 in /usr/local/lib/python3.7/dist-packages (from google-auth<2,>=1.6.3->tensorboard<2.1.0,>=2.0.0->tensorflow==2.0) (4.7.2)\n",
            "Requirement already satisfied: requests-oauthlib>=0.7.0 in /usr/local/lib/python3.7/dist-packages (from google-auth-oauthlib<0.5,>=0.4.1->tensorboard<2.1.0,>=2.0.0->tensorflow==2.0) (1.3.0)\n",
            "Requirement already satisfied: importlib-metadata in /usr/local/lib/python3.7/dist-packages (from markdown>=2.6.8->tensorboard<2.1.0,>=2.0.0->tensorflow==2.0) (4.8.1)\n",
            "Requirement already satisfied: pyasn1<0.5.0,>=0.4.6 in /usr/local/lib/python3.7/dist-packages (from pyasn1-modules>=0.2.1->google-auth<2,>=1.6.3->tensorboard<2.1.0,>=2.0.0->tensorflow==2.0) (0.4.8)\n",
            "Requirement already satisfied: chardet<4,>=3.0.2 in /usr/local/lib/python3.7/dist-packages (from requests<3,>=2.21.0->tensorboard<2.1.0,>=2.0.0->tensorflow==2.0) (3.0.4)\n",
            "Requirement already satisfied: urllib3!=1.25.0,!=1.25.1,<1.26,>=1.21.1 in /usr/local/lib/python3.7/dist-packages (from requests<3,>=2.21.0->tensorboard<2.1.0,>=2.0.0->tensorflow==2.0) (1.24.3)\n",
            "Requirement already satisfied: certifi>=2017.4.17 in /usr/local/lib/python3.7/dist-packages (from requests<3,>=2.21.0->tensorboard<2.1.0,>=2.0.0->tensorflow==2.0) (2021.5.30)\n",
            "Requirement already satisfied: idna<3,>=2.5 in /usr/local/lib/python3.7/dist-packages (from requests<3,>=2.21.0->tensorboard<2.1.0,>=2.0.0->tensorflow==2.0) (2.10)\n",
            "Requirement already satisfied: oauthlib>=3.0.0 in /usr/local/lib/python3.7/dist-packages (from requests-oauthlib>=0.7.0->google-auth-oauthlib<0.5,>=0.4.1->tensorboard<2.1.0,>=2.0.0->tensorflow==2.0) (3.1.1)\n",
            "Requirement already satisfied: cached-property in /usr/local/lib/python3.7/dist-packages (from h5py->keras-applications>=1.0.8->tensorflow==2.0) (1.5.2)\n",
            "Requirement already satisfied: typing-extensions>=3.6.4 in /usr/local/lib/python3.7/dist-packages (from importlib-metadata->markdown>=2.6.8->tensorboard<2.1.0,>=2.0.0->tensorflow==2.0) (3.7.4.3)\n",
            "Requirement already satisfied: zipp>=0.5 in /usr/local/lib/python3.7/dist-packages (from importlib-metadata->markdown>=2.6.8->tensorboard<2.1.0,>=2.0.0->tensorflow==2.0) (3.6.0)\n",
            "Building wheels for collected packages: gast\n",
            "  Building wheel for gast (setup.py) ... \u001b[?25l\u001b[?25hdone\n",
            "  Created wheel for gast: filename=gast-0.2.2-py3-none-any.whl size=7554 sha256=40514df1b8b0b31561c863aef912045ade6ca91722b1a604e4d76befa60a1178\n",
            "  Stored in directory: /root/.cache/pip/wheels/21/7f/02/420f32a803f7d0967b48dd823da3f558c5166991bfd204eef3\n",
            "Successfully built gast\n",
            "Installing collected packages: tensorflow-estimator, tensorboard, keras-applications, gast, tensorflow\n",
            "  Attempting uninstall: tensorflow-estimator\n",
            "    Found existing installation: tensorflow-estimator 2.6.0\n",
            "    Uninstalling tensorflow-estimator-2.6.0:\n",
            "      Successfully uninstalled tensorflow-estimator-2.6.0\n",
            "  Attempting uninstall: tensorboard\n",
            "    Found existing installation: tensorboard 2.6.0\n",
            "    Uninstalling tensorboard-2.6.0:\n",
            "      Successfully uninstalled tensorboard-2.6.0\n",
            "  Attempting uninstall: gast\n",
            "    Found existing installation: gast 0.4.0\n",
            "    Uninstalling gast-0.4.0:\n",
            "      Successfully uninstalled gast-0.4.0\n",
            "  Attempting uninstall: tensorflow\n",
            "    Found existing installation: tensorflow 2.6.0\n",
            "    Uninstalling tensorflow-2.6.0:\n",
            "      Successfully uninstalled tensorflow-2.6.0\n",
            "\u001b[31mERROR: pip's dependency resolver does not currently take into account all the packages that are installed. This behaviour is the source of the following dependency conflicts.\n",
            "tensorflow-probability 0.14.1 requires gast>=0.3.2, but you have gast 0.2.2 which is incompatible.\u001b[0m\n",
            "Successfully installed gast-0.2.2 keras-applications-1.0.8 tensorboard-2.0.2 tensorflow-2.0.0 tensorflow-estimator-2.0.1\n",
            "2.0.0\n"
          ]
        }
      ]
    },
    {
      "cell_type": "code",
      "metadata": {
        "id": "mc1KhBNzZtbl",
        "colab": {
          "base_uri": "https://localhost:8080/"
        },
        "outputId": "a7e50250-83b5-452d-c4f2-3745e00d7cd4"
      },
      "source": [
        "# workaround needed in Colab\n",
        "!pip install -q -U tensorflow_addons==0.6\n",
        "#!pip uninstall tensorflow_addons==0.14"
      ],
      "id": "mc1KhBNzZtbl",
      "execution_count": null,
      "outputs": [
        {
          "output_type": "stream",
          "name": "stdout",
          "text": [
            "\u001b[K     |████████████████████████████████| 1.8 MB 5.3 MB/s \n",
            "\u001b[K     |████████████████████████████████| 380.8 MB 41 kB/s \n",
            "\u001b[?25h"
          ]
        }
      ]
    },
    {
      "cell_type": "code",
      "metadata": {
        "id": "prescribed-dayton",
        "colab": {
          "base_uri": "https://localhost:8080/"
        },
        "outputId": "f7e0ff1a-53e6-4406-c1cf-e31c743d2ddb"
      },
      "source": [
        "import numpy as np\n",
        "import matplotlib.pyplot as plt\n",
        "from sklearn.model_selection import train_test_split\n",
        "\n",
        "# import tensorflow as tf\n",
        "# from tensorflow import keras\n",
        "try:\n",
        "    import tensorflow_addons as tfa\n",
        "    print(tfa.__version__)\n",
        "except ModuleNotFoundError:\n",
        "    !pip install -q -U tensorflow_addons==0.6\n",
        "    import tensorflow_addons as tfa\n",
        "    print(tfa.__version__)"
      ],
      "id": "prescribed-dayton",
      "execution_count": null,
      "outputs": [
        {
          "output_type": "stream",
          "name": "stdout",
          "text": [
            "0.6.0\n"
          ]
        }
      ]
    },
    {
      "cell_type": "code",
      "metadata": {
        "colab": {
          "base_uri": "https://localhost:8080/"
        },
        "id": "XYlSXuAa_Miu",
        "outputId": "52f2c439-ba3b-4607-e25c-b594c0da56a9"
      },
      "source": [
        "# needed in Colab\n",
        "!pip install 'ray[tune]'"
      ],
      "id": "XYlSXuAa_Miu",
      "execution_count": null,
      "outputs": [
        {
          "output_type": "stream",
          "name": "stdout",
          "text": [
            "Collecting ray[tune]\n",
            "  Downloading ray-1.7.1-cp37-cp37m-manylinux2014_x86_64.whl (54.0 MB)\n",
            "\u001b[K     |████████████████████████████████| 54.0 MB 13 kB/s \n",
            "\u001b[?25hCollecting redis>=3.5.0\n",
            "  Downloading redis-3.5.3-py2.py3-none-any.whl (72 kB)\n",
            "\u001b[K     |████████████████████████████████| 72 kB 518 kB/s \n",
            "\u001b[?25hRequirement already satisfied: grpcio>=1.28.1 in /usr/local/lib/python3.7/dist-packages (from ray[tune]) (1.41.0)\n",
            "Requirement already satisfied: filelock in /usr/local/lib/python3.7/dist-packages (from ray[tune]) (3.3.0)\n",
            "Requirement already satisfied: attrs in /usr/local/lib/python3.7/dist-packages (from ray[tune]) (21.2.0)\n",
            "Requirement already satisfied: pyyaml in /usr/local/lib/python3.7/dist-packages (from ray[tune]) (3.13)\n",
            "Requirement already satisfied: protobuf>=3.15.3 in /usr/local/lib/python3.7/dist-packages (from ray[tune]) (3.17.3)\n",
            "Requirement already satisfied: numpy>=1.16 in /usr/local/lib/python3.7/dist-packages (from ray[tune]) (1.19.5)\n",
            "Requirement already satisfied: msgpack<2.0.0,>=1.0.0 in /usr/local/lib/python3.7/dist-packages (from ray[tune]) (1.0.2)\n",
            "Requirement already satisfied: click>=7.0 in /usr/local/lib/python3.7/dist-packages (from ray[tune]) (7.1.2)\n",
            "Requirement already satisfied: pandas in /usr/local/lib/python3.7/dist-packages (from ray[tune]) (1.1.5)\n",
            "Requirement already satisfied: requests in /usr/local/lib/python3.7/dist-packages (from ray[tune]) (2.23.0)\n",
            "Requirement already satisfied: tabulate in /usr/local/lib/python3.7/dist-packages (from ray[tune]) (0.8.9)\n",
            "Collecting tensorboardX>=1.9\n",
            "  Downloading tensorboardX-2.4-py2.py3-none-any.whl (124 kB)\n",
            "\u001b[K     |████████████████████████████████| 124 kB 49.5 MB/s \n",
            "\u001b[?25hRequirement already satisfied: six>=1.5.2 in /usr/local/lib/python3.7/dist-packages (from grpcio>=1.28.1->ray[tune]) (1.15.0)\n",
            "Requirement already satisfied: pytz>=2017.2 in /usr/local/lib/python3.7/dist-packages (from pandas->ray[tune]) (2018.9)\n",
            "Requirement already satisfied: python-dateutil>=2.7.3 in /usr/local/lib/python3.7/dist-packages (from pandas->ray[tune]) (2.8.2)\n",
            "Requirement already satisfied: certifi>=2017.4.17 in /usr/local/lib/python3.7/dist-packages (from requests->ray[tune]) (2021.5.30)\n",
            "Requirement already satisfied: idna<3,>=2.5 in /usr/local/lib/python3.7/dist-packages (from requests->ray[tune]) (2.10)\n",
            "Requirement already satisfied: urllib3!=1.25.0,!=1.25.1,<1.26,>=1.21.1 in /usr/local/lib/python3.7/dist-packages (from requests->ray[tune]) (1.24.3)\n",
            "Requirement already satisfied: chardet<4,>=3.0.2 in /usr/local/lib/python3.7/dist-packages (from requests->ray[tune]) (3.0.4)\n",
            "Installing collected packages: redis, tensorboardX, ray\n",
            "Successfully installed ray-1.7.1 redis-3.5.3 tensorboardX-2.4\n"
          ]
        }
      ]
    },
    {
      "cell_type": "code",
      "metadata": {
        "id": "BKV5PfOH-znF"
      },
      "source": [
        "from ray import tune\n",
        "from ray.tune import JupyterNotebookReporter # CLIReporter\n",
        "from ray.tune.schedulers import ASHAScheduler\n",
        "from ray.tune.integration.keras import TuneReportCallback\n",
        "# https://docs.ray.io/en/latest/tune/examples/tune_mnist_keras.html"
      ],
      "id": "BKV5PfOH-znF",
      "execution_count": null,
      "outputs": []
    },
    {
      "cell_type": "code",
      "metadata": {
        "id": "N0BWxXTNbQU4"
      },
      "source": [
        "# workaround needed in Colab\n",
        "import os\n",
        "from filelock import FileLock"
      ],
      "id": "N0BWxXTNbQU4",
      "execution_count": null,
      "outputs": []
    },
    {
      "cell_type": "code",
      "metadata": {
        "id": "backed-heavy"
      },
      "source": [
        "class CausalCNNRegressor:\n",
        "    \n",
        "    def load(self, num_clauses, num_mc_runs, start_temperature, number, test_size = .2):\n",
        "        # workaround needed in Colab\n",
        "        # https://github.com/ray-project/ray/issues/5614#issuecomment-527292289\n",
        "        import tensorflow as tf\n",
        "        from tensorflow import keras\n",
        "        import numpy as np\n",
        "        import matplotlib.pyplot as plt\n",
        "        from sklearn.model_selection import train_test_split\n",
        "        import tensorflow_addons as tfa\n",
        "        # Loads and prepares data. The path should be adjusted depending on where your \n",
        "        # data is.\n",
        "        file_name = f'ec3_stim_anneal_spins{7}_clauses{num_clauses}' + \\\n",
        "            f'_runs{num_mc_runs}_temp{start_temperature}_{number}'\n",
        "        path = f'/content/drive/MyDrive/data/raw/ec3-anneal-data_2021-10-21_1431/{file_name}.npz'\n",
        "        with FileLock(os.path.expanduser(\"~/.data.lock\")):\n",
        "            data = np.load(path)\n",
        "        \n",
        "            ftrs = data['res_mc_timelines']\n",
        "            lbls = data['res_fidelity'][:, -1]\n",
        "            \n",
        "            # max normalization [min,1]\n",
        "            ftrs = ftrs / ftrs.max()\n",
        "            # Perform min max normalization for the features [0,1]\n",
        "            # ftrs = ftrs - ftrs.min()\n",
        "            # ftrs /= ftrs.max() - ftrs.min()\n",
        "            \n",
        "            # Split train/test data for the full Hamiltonian.\n",
        "            X_train, X_test, Y_train, Y_test = train_test_split(\n",
        "                ftrs, lbls, test_size = test_size)\n",
        "            \n",
        "            self.X_train, self.X_test = X_train, X_test \n",
        "            self.Y_train, self.Y_test = Y_train, Y_test \n",
        "\n",
        "    def build_model(self, learn_rate, num_conv, num_dense):\n",
        "        import tensorflow as tf\n",
        "        from tensorflow import keras\n",
        "        import numpy as np\n",
        "        import matplotlib.pyplot as plt\n",
        "        from sklearn.model_selection import train_test_split\n",
        "        import tensorflow_addons as tfa\n",
        "        keras.backend.clear_session()\n",
        "        model = keras.Sequential(name='Causal_CNN_regressor')\n",
        "        # initial 1x1 conv to create channels (kind of regularization or data augmentation)\n",
        "        model.add(keras.layers.Conv1D(2**5, (1,), activation = 'tanh', \n",
        "            padding = 'valid', strides = 1))\n",
        "        # first conv with kernel_size=2 and normal stride so it covers everything with overlap\n",
        "        model.add(keras.layers.Conv1D(2**2, (num_conv,), activation='tanh', \n",
        "            padding='valid', strides=1, ))#kernel_initializer='he_normal' ))#input_shape=(100,1)))\n",
        "        # strided convs\n",
        "        model.add(keras.layers.Conv1D(1, (2*num_conv,), activation='tanh', \n",
        "            padding='valid', strides=num_conv)) # overlap or not? yes, do it to learn pooling.\n",
        "        model.add(keras.layers.Conv1D(1, (num_conv,), activation='tanh',\n",
        "            padding='valid', strides=num_conv))\n",
        "        model.add(keras.layers.Conv1D(1, (2*num_conv,), activation='elu', # last convolution with elu works well\n",
        "            padding='valid', strides=num_conv))\n",
        "        \n",
        "        # model.add(keras.layers.Conv1D(1, (1,), activation = 'sigmoid', \n",
        "        #     padding = 'valid', strides = 1))\n",
        "\n",
        "        # 1x1 conv to reduce channels\n",
        "        # model.add(keras.layers.Conv1D(1, (1,), activation = 'elu', \n",
        "        #     padding = 'valid', strides = 1))\n",
        "        # model.add(keras.layers.GlobalAvgPool1D(keepdims=True))\n",
        "\n",
        "        model.add(keras.layers.Flatten()) #------------------ ----------\n",
        "        \n",
        "        model.add(keras.layers.Dense(num_dense, activation = 'relu'))\n",
        "        # model.add(keras.layers.Dense(num_dense, activation = 'relu'))\n",
        "        model.add(keras.layers.Dense(1, activation = 'sigmoid')) # to strict output in [0,1] range.\n",
        "        # model.add(keras.layers.Conv1D(1, (1,), activation = 'tanh', \n",
        "        #     padding = 'valid', strides = 1))\n",
        "        # model.add(keras.layers.Conv1D(1, (1,), activation = 'tanh', \n",
        "        #     padding = 'valid', strides = 1))\n",
        "        # model.add(keras.layers.Reshape((num_dense,1)))\n",
        "        # model.add(keras.layers.Conv1D(1, (4,), activation = 'tanh', \n",
        "        #     padding = 'valid', strides = 2))\n",
        "        # model.add(keras.layers.Conv1D(1, (1,), activation = 'sigmoid', \n",
        "        #     padding = 'valid', strides = 1))\n",
        "        # model.add(keras.layers.Flatten())\n",
        "        # model.add(keras.layers.Dense(1, activation = 'sigmoid')) # to strict output in [0,1] range.\n",
        "\n",
        "        # Tried Cyclic learning rate scheduler, no improvement in one shot.\n",
        "        # BATCH_SIZE = 128\n",
        "        # INIT_LR = 1e-4\n",
        "        # MAX_LR = 1e-2\n",
        "\n",
        "        # steps_per_epoch = len(self.X_train) // BATCH_SIZE\n",
        "        # clr = tfa.optimizers.CyclicalLearningRate(initial_learning_rate=INIT_LR,\n",
        "        #     maximal_learning_rate=MAX_LR,\n",
        "        #     scale_fn=lambda x: 1/(2.**(x-1)),\n",
        "        #     step_size=2 * steps_per_epoch\n",
        "        # )\n",
        "\n",
        "        model.compile(loss='mae',\n",
        "                      optimizer=keras.optimizers.Adam(learn_rate), # clr),\n",
        "                      metrics=['mae'],\n",
        "                      )\n",
        "\n",
        "        self.model = model\n",
        "        \n",
        "    def training(self, epochs, batch_size=128, early=False):\n",
        "        import tensorflow as tf\n",
        "        from tensorflow import keras\n",
        "        import numpy as np\n",
        "        import matplotlib.pyplot as plt\n",
        "        from sklearn.model_selection import train_test_split\n",
        "        import tensorflow_addons as tfa\n",
        "        # Introduce early stopping\n",
        "        stop_early = tf.keras.callbacks.EarlyStopping(monitor = 'val_loss', \n",
        "            patience = 100)\n",
        "\n",
        "        callbacks =[]\n",
        "        # Ray Tune needs some feedback from the training via the Callbacks\n",
        "        callbacks += [TuneReportCallback({\"loss\": \"mae\", \"val_loss\": \"val_loss\",\n",
        "                                        #   \"iteration\": \"epoch\"\n",
        "                                          })]\n",
        "        if early:\n",
        "            callbacks += [stop_early]\n",
        "\n",
        "        self.hist = self.model.fit(self.X_train, self.Y_train, epochs = epochs,\n",
        "            verbose = 0,\n",
        "            validation_split = .2, batch_size = batch_size,\\\n",
        "            callbacks = callbacks)\n",
        "        "
      ],
      "id": "backed-heavy",
      "execution_count": null,
      "outputs": []
    },
    {
      "cell_type": "code",
      "metadata": {
        "id": "developed-probe"
      },
      "source": [
        "# for Ray Tune to work the \"Training\" function argument should be a dictionary of variables,\n",
        "# and, return nothing \n",
        "def regression(d):#num_clauses, num_mc_runs, start_temperature, number,\n",
        "            #    lr, bsize, num_conv, num_dense,\n",
        "            #    num_epochs):\n",
        "    regressor = CausalCNNRegressor()\n",
        "    regressor.load(d[\"num_clauses\"], d[\"num_mc_runs\"], d[\"start_temperature\"], d[\"number\"])\n",
        "    regressor.build_model(d[\"lr\"], d[\"num_conv\"], d[\"num_dense\"])\n",
        "    regressor.training(d[\"num_epochs\"], batch_size=d[\"bsize\"])\n",
        "    # regressor.model.summary()\n",
        "    # return regressor"
      ],
      "id": "developed-probe",
      "execution_count": null,
      "outputs": []
    },
    {
      "cell_type": "code",
      "metadata": {
        "colab": {
          "base_uri": "https://localhost:8080/"
        },
        "id": "J55vHD_9g_L4",
        "outputId": "9cb8859c-b24e-4754-90dc-63c6ba03b15a"
      },
      "source": [
        "regressor = CausalCNNRegressor()\n",
        "regressor.load(5, 100, 10, 1)\n",
        "regressor.build_model(1e-3, 2, 16)\n",
        "regressor.training(1)\n",
        "regressor.model.summary()"
      ],
      "id": "J55vHD_9g_L4",
      "execution_count": null,
      "outputs": [
        {
          "output_type": "stream",
          "name": "stdout",
          "text": [
            "50/50 [==============================] - 1s 10ms/step - loss: 0.0940 - mae: 0.0940 - val_loss: 0.0907 - val_mae: 0.0907\n",
            "Model: \"Causal_CNN_regressor\"\n",
            "_________________________________________________________________\n",
            "Layer (type)                 Output Shape              Param #   \n",
            "=================================================================\n",
            "conv1d (Conv1D)              (None, 99, 4)             84        \n",
            "_________________________________________________________________\n",
            "conv1d_1 (Conv1D)            (None, 48, 1)             17        \n",
            "_________________________________________________________________\n",
            "conv1d_2 (Conv1D)            (None, 24, 1)             3         \n",
            "_________________________________________________________________\n",
            "flatten (Flatten)            (None, 24)                0         \n",
            "_________________________________________________________________\n",
            "dense (Dense)                (None, 16)                400       \n",
            "_________________________________________________________________\n",
            "reshape (Reshape)            (None, 16, 1)             0         \n",
            "_________________________________________________________________\n",
            "conv1d_3 (Conv1D)            (None, 16, 1)             2         \n",
            "_________________________________________________________________\n",
            "flatten_1 (Flatten)          (None, 16)                0         \n",
            "=================================================================\n",
            "Total params: 506\n",
            "Trainable params: 506\n",
            "Non-trainable params: 0\n",
            "_________________________________________________________________\n"
          ]
        }
      ]
    },
    {
      "cell_type": "code",
      "metadata": {
        "id": "associate-sharp"
      },
      "source": [
        "# regresion function changes from this\n",
        "reg = regression(5, 100, 10, 1, 1e-3, 2, 16, 200)"
      ],
      "id": "associate-sharp",
      "execution_count": null,
      "outputs": []
    },
    {
      "cell_type": "code",
      "metadata": {
        "colab": {
          "base_uri": "https://localhost:8080/"
        },
        "id": "_MLOa5mqL3Dx",
        "outputId": "2d7204f1-5316-4142-fb56-1e4a73e91a0d"
      },
      "source": [
        "# to this function with dictionary input\n",
        "regression({\"num_clauses\":5, \"num_mc_runs\":100,\n",
        "          \"start_temperature\":10, \"number\":1,\n",
        "          # random sampling by default\n",
        "          \"lr\": 1e-3,\n",
        "          \"bsize\": 512,\n",
        "          \"num_conv\": 2,\n",
        "          \"num_dense\":16,\n",
        "          \"num_epochs\": 1,})"
      ],
      "id": "_MLOa5mqL3Dx",
      "execution_count": null,
      "outputs": [
        {
          "output_type": "stream",
          "name": "stdout",
          "text": [
            "Train on 6400 samples, validate on 1600 samples\n",
            "5632/6400 [=========================>....] - ETA: 0s - loss: 0.0949 - mae: 0.0949"
          ]
        },
        {
          "output_type": "stream",
          "name": "stderr",
          "text": [
            "2021-10-25 07:51:54,602\tWARNING session.py:35 -- Session not detected. You should not be calling `report` outside `tune.run` or while using the class API. \n",
            "2021-10-25 07:51:54,604\tWARNING session.py:36 --   File \"/usr/lib/python3.7/runpy.py\", line 193, in _run_module_as_main\n",
            "    \"__main__\", mod_spec)\n",
            "  File \"/usr/lib/python3.7/runpy.py\", line 85, in _run_code\n",
            "    exec(code, run_globals)\n",
            "  File \"/usr/local/lib/python3.7/dist-packages/ipykernel_launcher.py\", line 16, in <module>\n",
            "    app.launch_new_instance()\n",
            "  File \"/usr/local/lib/python3.7/dist-packages/traitlets/config/application.py\", line 846, in launch_instance\n",
            "    app.start()\n",
            "  File \"/usr/local/lib/python3.7/dist-packages/ipykernel/kernelapp.py\", line 499, in start\n",
            "    self.io_loop.start()\n",
            "  File \"/usr/local/lib/python3.7/dist-packages/tornado/platform/asyncio.py\", line 132, in start\n",
            "    self.asyncio_loop.run_forever()\n",
            "  File \"/usr/lib/python3.7/asyncio/base_events.py\", line 541, in run_forever\n",
            "    self._run_once()\n",
            "  File \"/usr/lib/python3.7/asyncio/base_events.py\", line 1786, in _run_once\n",
            "    handle._run()\n",
            "  File \"/usr/lib/python3.7/asyncio/events.py\", line 88, in _run\n",
            "    self._context.run(self._callback, *self._args)\n",
            "  File \"/usr/local/lib/python3.7/dist-packages/tornado/platform/asyncio.py\", line 122, in _handle_events\n",
            "    handler_func(fileobj, events)\n",
            "  File \"/usr/local/lib/python3.7/dist-packages/tornado/stack_context.py\", line 300, in null_wrapper\n",
            "    return fn(*args, **kwargs)\n",
            "  File \"/usr/local/lib/python3.7/dist-packages/zmq/eventloop/zmqstream.py\", line 452, in _handle_events\n",
            "    self._handle_recv()\n",
            "  File \"/usr/local/lib/python3.7/dist-packages/zmq/eventloop/zmqstream.py\", line 481, in _handle_recv\n",
            "    self._run_callback(callback, msg)\n",
            "  File \"/usr/local/lib/python3.7/dist-packages/zmq/eventloop/zmqstream.py\", line 431, in _run_callback\n",
            "    callback(*args, **kwargs)\n",
            "  File \"/usr/local/lib/python3.7/dist-packages/tornado/stack_context.py\", line 300, in null_wrapper\n",
            "    return fn(*args, **kwargs)\n",
            "  File \"/usr/local/lib/python3.7/dist-packages/ipykernel/kernelbase.py\", line 283, in dispatcher\n",
            "    return self.dispatch_shell(stream, msg)\n",
            "  File \"/usr/local/lib/python3.7/dist-packages/ipykernel/kernelbase.py\", line 233, in dispatch_shell\n",
            "    handler(stream, idents, msg)\n",
            "  File \"/usr/local/lib/python3.7/dist-packages/ipykernel/kernelbase.py\", line 399, in execute_request\n",
            "    user_expressions, allow_stdin)\n",
            "  File \"/usr/local/lib/python3.7/dist-packages/ipykernel/ipkernel.py\", line 208, in do_execute\n",
            "    res = shell.run_cell(code, store_history=store_history, silent=silent)\n",
            "  File \"/usr/local/lib/python3.7/dist-packages/ipykernel/zmqshell.py\", line 537, in run_cell\n",
            "    return super(ZMQInteractiveShell, self).run_cell(*args, **kwargs)\n",
            "  File \"/usr/local/lib/python3.7/dist-packages/IPython/core/interactiveshell.py\", line 2718, in run_cell\n",
            "    interactivity=interactivity, compiler=compiler, result=result)\n",
            "  File \"/usr/local/lib/python3.7/dist-packages/IPython/core/interactiveshell.py\", line 2828, in run_ast_nodes\n",
            "    if self.run_code(code, result):\n",
            "  File \"/usr/local/lib/python3.7/dist-packages/IPython/core/interactiveshell.py\", line 2882, in run_code\n",
            "    exec(code_obj, self.user_global_ns, self.user_ns)\n",
            "  File \"<ipython-input-16-f6abeaeb3a01>\", line 8, in <module>\n",
            "    \"num_epochs\": 1,})\n",
            "  File \"<ipython-input-7-b4bb399a0b61>\", line 7, in regression\n",
            "    regressor.training(d[\"num_epochs\"], batch_size=d[\"bsize\"])\n",
            "  File \"<ipython-input-14-1ee9c8e8ef2b>\", line 101, in training\n",
            "    callbacks = callbacks)\n",
            "  File \"/usr/local/lib/python3.7/dist-packages/tensorflow_core/python/keras/engine/training.py\", line 728, in fit\n",
            "    use_multiprocessing=use_multiprocessing)\n",
            "  File \"/usr/local/lib/python3.7/dist-packages/tensorflow_core/python/keras/engine/training_v2.py\", line 372, in fit\n",
            "    prefix='val_')\n",
            "  File \"/usr/lib/python3.7/contextlib.py\", line 119, in __exit__\n",
            "    next(self.gen)\n",
            "  File \"/usr/local/lib/python3.7/dist-packages/tensorflow_core/python/keras/engine/training_v2.py\", line 685, in on_epoch\n",
            "    self.callbacks.on_epoch_end(epoch, epoch_logs)\n",
            "  File \"/usr/local/lib/python3.7/dist-packages/tensorflow_core/python/keras/callbacks.py\", line 298, in on_epoch_end\n",
            "    callback.on_epoch_end(epoch, logs)\n",
            "  File \"/usr/local/lib/python3.7/dist-packages/ray/tune/integration/keras.py\", line 59, in on_epoch_end\n",
            "    self._handle(logs, \"epoch_end\")\n",
            "  File \"/usr/local/lib/python3.7/dist-packages/ray/tune/integration/keras.py\", line 164, in _handle\n",
            "    tune.report(**report_dict)\n",
            "\n"
          ]
        },
        {
          "output_type": "stream",
          "name": "stdout",
          "text": [
            "\b\b\b\b\b\b\b\b\b\b\b\b\b\b\b\b\b\b\b\b\b\b\b\b\b\b\b\b\b\b\b\b\b\b\b\b\b\b\b\b\b\b\b\b\b\b\b\b\b\b\b\b\b\b\b\b\b\b\b\b\b\b\b\b\b\b\b\b\b\b\b\b\b\b\b\b\b\b\b\b\b\r6400/6400 [==============================] - 7s 1ms/sample - loss: 0.0946 - mae: 0.0946 - val_loss: 0.0925 - val_mae: 0.0925\n",
            "Model: \"Causal_CNN_regressor\"\n",
            "_________________________________________________________________\n",
            "Layer (type)                 Output Shape              Param #   \n",
            "=================================================================\n",
            "conv1d (Conv1D)              multiple                  352       \n",
            "_________________________________________________________________\n",
            "conv1d_1 (Conv1D)            multiple                  260       \n",
            "_________________________________________________________________\n",
            "conv1d_2 (Conv1D)            multiple                  17        \n",
            "_________________________________________________________________\n",
            "conv1d_3 (Conv1D)            multiple                  3         \n",
            "_________________________________________________________________\n",
            "conv1d_4 (Conv1D)            multiple                  5         \n",
            "_________________________________________________________________\n",
            "flatten (Flatten)            multiple                  0         \n",
            "_________________________________________________________________\n",
            "dense (Dense)                multiple                  192       \n",
            "_________________________________________________________________\n",
            "dense_1 (Dense)              multiple                  17        \n",
            "=================================================================\n",
            "Total params: 846\n",
            "Trainable params: 846\n",
            "Non-trainable params: 0\n",
            "_________________________________________________________________\n"
          ]
        },
        {
          "output_type": "execute_result",
          "data": {
            "text/plain": [
              "<__main__.CausalCNNRegressor at 0x7f8b6f1d1c90>"
            ]
          },
          "metadata": {},
          "execution_count": 16
        }
      ]
    },
    {
      "cell_type": "code",
      "metadata": {
        "colab": {
          "base_uri": "https://localhost:8080/",
          "height": 279
        },
        "id": "2_wagl9Wbo5q",
        "outputId": "b808de05-e7e5-47e5-f86c-d8ba0c7fd51b"
      },
      "source": [
        "plt.plot(reg.hist.history['loss'], label = 'train. loss')\n",
        "plt.plot(reg.hist.history['val_loss'], label = 'val. loss')\n",
        "plt.xlabel('epochs')\n",
        "plt.ylabel('loss')\n",
        "plt.grid()\n",
        "plt.legend();"
      ],
      "id": "2_wagl9Wbo5q",
      "execution_count": null,
      "outputs": [
        {
          "output_type": "display_data",
          "data": {
            "image/png": "[encoded data removed]",
            "text/plain": [
              "<Figure size 432x288 with 1 Axes>"
            ]
          },
          "metadata": {
            "needs_background": "light"
          }
        }
      ]
    },
    {
      "cell_type": "code",
      "metadata": {
        "id": "_nN4qv--_nvT"
      },
      "source": [
        "config = {\"num_clauses\":5, \"num_mc_runs\":100,\n",
        "          \"start_temperature\":10, \"number\":1,\n",
        "          # random sampling by default\n",
        "          \"lr\": tune.loguniform(5e-4, 1e-2),\n",
        "          \"bsize\": tune.choice([2**2,2**3, 2**4,2**5,2**6,2**7,2**8]),\n",
        "          \"num_conv\": 2,\n",
        "          \"num_dense\":16,\n",
        "          \"num_epochs\": 150\n",
        "          # custom sampling by lambda functions\n",
        "          #         \"l1\": tune.sample_from(lambda _: 2 ** np.random.randint(2, 9)),\n",
        "          #         \"l2\": tune.sample_from(lambda _: 2 ** np.random.randint(2, 9)),\n",
        "          # grid search\n",
        "          # \"x\": tune.grid_search([1, 2, 3]),\n",
        "          }\n",
        "metric = \"val_loss\"\n",
        "mode   = \"min\"\n",
        "current_best_params = [{\"lr\": 1e-3,\"bsize\": 128,}]"
      ],
      "id": "_nN4qv--_nvT",
      "execution_count": null,
      "outputs": []
    },
    {
      "cell_type": "code",
      "metadata": {
        "id": "J1890QqHAExI"
      },
      "source": [
        "iter_num_epoch = 1 # how many iters per epoch\n",
        "asha_scheduler = ASHAScheduler(metric=metric,mode=mode,\n",
        "                            #    time_attr=\"iteration\",\n",
        "                               max_t=iter_num_epoch*300, # max time units (determined by time_attr) per trial. Can be N epochs or batches...\n",
        "                               # In ASHA, you can decide how many trials are early terminated. \n",
        "                               # With grace_period=n you can force ASHA to train each trial at least for n epochs/batches/time_attr.\n",
        "                               grace_period=iter_num_epoch*5,\n",
        "                               # reduction_factor=20,10,4,2,1.25 means that only 5%,10%,25%,50%,80% of all trials are kept each time they are reduced.\n",
        "                               reduction_factor=2)"
      ],
      "id": "J1890QqHAExI",
      "execution_count": null,
      "outputs": []
    },
    {
      "cell_type": "code",
      "metadata": {
        "id": "-s08h-MgARwy"
      },
      "source": [
        "reporter_jupyter = JupyterNotebookReporter(overwrite=True, metric_columns=[\"loss\", \"val_loss\", \"iteration\"], metric=metric,mode=mode)"
      ],
      "id": "-s08h-MgARwy",
      "execution_count": null,
      "outputs": []
    },
    {
      "cell_type": "code",
      "metadata": {
        "colab": {
          "base_uri": "https://localhost:8080/",
          "height": 691
        },
        "id": "OgcHOzbZASzY",
        "outputId": "c9e19741-8d50-4dfb-912e-5ea56471d159"
      },
      "source": [
        "result = tune.run(regression, config=config,\n",
        "                  #tune.with_parameters(regression, **config),\n",
        "                  # name=\"session\",\n",
        "                  # partial(regression, data_dir=data_dir),\n",
        "                  resources_per_trial={\"cpu\": 1, \"gpu\": 0.5},\n",
        "                  num_samples=8*2, # number of random configurations (for each grid). ex.: 10*(3x3 grid)=90 configs.\n",
        "            # By default, each random variable and grid search point is sampled once. \n",
        "            # However, not all of them will run at once.\n",
        "            # The max training concurrency will be the number of CPU cores on the machine you're running on. For a 2-core machine, 2 models will be trained concurrently. \n",
        "                scheduler=asha_scheduler,\n",
        "#                 search_alg=search_alg,\n",
        "                progress_reporter=reporter_jupyter,\n",
        "                verbose=1,)"
      ],
      "id": "OgcHOzbZASzY",
      "execution_count": null,
      "outputs": [
        {
          "output_type": "display_data",
          "data": {
            "text/html": [
              "== Status ==<br>Memory usage on this node: 2.9/12.7 GiB<br>Using AsyncHyperBand: num_stopped=22\n",
              "Bracket: Iter 160.000: None | Iter 80.000: -0.07322043851017952 | Iter 40.000: -0.07477528518997133 | Iter 20.000: -0.07827423056587576 | Iter 10.000: -0.08114720057696104 | Iter 5.000: -0.086583389043808<br>Resources requested: 0/2 CPUs, 0/1 GPUs, 0.0/7.29 GiB heap, 0.0/3.65 GiB objects (0.0/1.0 accelerator_type:K80)<br>Current best trial: 4a86d_00002 with val_loss=0.0708601319976151 and parameters={'num_clauses': 5, 'num_mc_runs': 100, 'start_temperature': 10, 'number': 1, 'lr': 0.0008315204214386407, 'bsize': 4, 'num_conv': 2, 'num_dense': 16, 'num_epochs': 150}<br>Result logdir: /root/ray_results/regression_2021-10-25_09-24-01<br>Number of trials: 16/16 (16 TERMINATED)<br><table>\n",
              "<thead>\n",
              "<tr><th>Trial name            </th><th>status    </th><th>loc  </th><th style=\"text-align: right;\">  bsize</th><th style=\"text-align: right;\">         lr</th><th style=\"text-align: right;\">     loss</th><th style=\"text-align: right;\">  val_loss</th></tr>\n",
              "</thead>\n",
              "<tbody>\n",
              "<tr><td>regression_4a86d_00000</td><td>TERMINATED</td><td>     </td><td style=\"text-align: right;\">     64</td><td style=\"text-align: right;\">0.000746246</td><td style=\"text-align: right;\">0.0883415</td><td style=\"text-align: right;\"> 0.0867349</td></tr>\n",
              "<tr><td>regression_4a86d_00001</td><td>TERMINATED</td><td>     </td><td style=\"text-align: right;\">     32</td><td style=\"text-align: right;\">0.00704558 </td><td style=\"text-align: right;\">0.0934322</td><td style=\"text-align: right;\"> 0.0928613</td></tr>\n",
              "<tr><td>regression_4a86d_00002</td><td>TERMINATED</td><td>     </td><td style=\"text-align: right;\">      4</td><td style=\"text-align: right;\">0.00083152 </td><td style=\"text-align: right;\">0.0695861</td><td style=\"text-align: right;\"> 0.0708601</td></tr>\n",
              "<tr><td>regression_4a86d_00003</td><td>TERMINATED</td><td>     </td><td style=\"text-align: right;\">     32</td><td style=\"text-align: right;\">0.00793418 </td><td style=\"text-align: right;\">0.0940557</td><td style=\"text-align: right;\"> 0.0942545</td></tr>\n",
              "<tr><td>regression_4a86d_00004</td><td>TERMINATED</td><td>     </td><td style=\"text-align: right;\">      8</td><td style=\"text-align: right;\">0.000874342</td><td style=\"text-align: right;\">0.0705609</td><td style=\"text-align: right;\"> 0.0744603</td></tr>\n",
              "<tr><td>regression_4a86d_00005</td><td>TERMINATED</td><td>     </td><td style=\"text-align: right;\">    256</td><td style=\"text-align: right;\">0.000781108</td><td style=\"text-align: right;\">0.0924611</td><td style=\"text-align: right;\"> 0.0950073</td></tr>\n",
              "<tr><td>regression_4a86d_00006</td><td>TERMINATED</td><td>     </td><td style=\"text-align: right;\">    128</td><td style=\"text-align: right;\">0.00843193 </td><td style=\"text-align: right;\">0.0829609</td><td style=\"text-align: right;\"> 0.0873416</td></tr>\n",
              "<tr><td>regression_4a86d_00007</td><td>TERMINATED</td><td>     </td><td style=\"text-align: right;\">     64</td><td style=\"text-align: right;\">0.000712661</td><td style=\"text-align: right;\">0.0926843</td><td style=\"text-align: right;\"> 0.0934749</td></tr>\n",
              "<tr><td>regression_4a86d_00008</td><td>TERMINATED</td><td>     </td><td style=\"text-align: right;\">      8</td><td style=\"text-align: right;\">0.00791114 </td><td style=\"text-align: right;\">0.0947285</td><td style=\"text-align: right;\"> 0.093596 </td></tr>\n",
              "<tr><td>regression_4a86d_00009</td><td>TERMINATED</td><td>     </td><td style=\"text-align: right;\">      4</td><td style=\"text-align: right;\">0.00217659 </td><td style=\"text-align: right;\">0.0750967</td><td style=\"text-align: right;\"> 0.0769778</td></tr>\n",
              "<tr><td>regression_4a86d_00010</td><td>TERMINATED</td><td>     </td><td style=\"text-align: right;\">     32</td><td style=\"text-align: right;\">0.00691605 </td><td style=\"text-align: right;\">0.0814359</td><td style=\"text-align: right;\"> 0.0824332</td></tr>\n",
              "<tr><td>regression_4a86d_00011</td><td>TERMINATED</td><td>     </td><td style=\"text-align: right;\">     64</td><td style=\"text-align: right;\">0.000802534</td><td style=\"text-align: right;\">0.0807062</td><td style=\"text-align: right;\"> 0.0818459</td></tr>\n",
              "<tr><td>regression_4a86d_00012</td><td>TERMINATED</td><td>     </td><td style=\"text-align: right;\">    128</td><td style=\"text-align: right;\">0.00158812 </td><td style=\"text-align: right;\">0.0925102</td><td style=\"text-align: right;\"> 0.0885101</td></tr>\n",
              "<tr><td>regression_4a86d_00013</td><td>TERMINATED</td><td>     </td><td style=\"text-align: right;\">      8</td><td style=\"text-align: right;\">0.00750296 </td><td style=\"text-align: right;\">0.0929989</td><td style=\"text-align: right;\"> 0.0935353</td></tr>\n",
              "<tr><td>regression_4a86d_00014</td><td>TERMINATED</td><td>     </td><td style=\"text-align: right;\">     64</td><td style=\"text-align: right;\">0.00122377 </td><td style=\"text-align: right;\">0.0935572</td><td style=\"text-align: right;\"> 0.0942313</td></tr>\n",
              "<tr><td>regression_4a86d_00015</td><td>TERMINATED</td><td>     </td><td style=\"text-align: right;\">     32</td><td style=\"text-align: right;\">0.00148384 </td><td style=\"text-align: right;\">0.0700894</td><td style=\"text-align: right;\"> 0.0738095</td></tr>\n",
              "</tbody>\n",
              "</table><br><br>"
            ],
            "text/plain": [
              "<IPython.core.display.HTML object>"
            ]
          },
          "metadata": {}
        },
        {
          "output_type": "stream",
          "name": "stderr",
          "text": [
            "2021-10-25 10:03:36,501\tINFO tune.py:617 -- Total run time: 2374.57 seconds (2374.40 seconds for the tuning loop).\n"
          ]
        }
      ]
    },
    {
      "cell_type": "code",
      "metadata": {
        "colab": {
          "base_uri": "https://localhost:8080/"
        },
        "id": "4BKrVrP3fQ_E",
        "outputId": "9411bcac-becb-4133-c5b1-1670aae981ed"
      },
      "source": [
        "# for debugging\n",
        "! cat /root/ray_results/regression_2021-10-25_09-08-03/regression_0f247_00000_0_bsize=16,lr=0.0010307_2021-10-25_09-08-28/error.txt"
      ],
      "id": "4BKrVrP3fQ_E",
      "execution_count": null,
      "outputs": [
        {
          "output_type": "stream",
          "name": "stdout",
          "text": [
            "Failure # 1 (occurred at 2021-10-25_09-08-46)\n",
            "Traceback (most recent call last):\n",
            "  File \"/usr/local/lib/python3.7/dist-packages/ray/tune/trial_runner.py\", line 812, in _process_trial\n",
            "    results = self.trial_executor.fetch_result(trial)\n",
            "  File \"/usr/local/lib/python3.7/dist-packages/ray/tune/ray_trial_executor.py\", line 767, in fetch_result\n",
            "    result = ray.get(trial_future[0], timeout=DEFAULT_GET_TIMEOUT)\n",
            "  File \"/usr/local/lib/python3.7/dist-packages/ray/_private/client_mode_hook.py\", line 89, in wrapper\n",
            "    return func(*args, **kwargs)\n",
            "  File \"/usr/local/lib/python3.7/dist-packages/ray/worker.py\", line 1621, in get\n",
            "    raise value.as_instanceof_cause()\n",
            "ray.exceptions.RayTaskError(TuneError): \u001b[36mray::ImplicitFunc.train_buffered()\u001b[39m (pid=460, ip=172.28.0.2, repr=<types.ImplicitFunc object at 0x7f257ab2ca50>)\n",
            "  File \"/usr/local/lib/python3.7/dist-packages/ray/tune/trainable.py\", line 189, in train_buffered\n",
            "    result = self.train()\n",
            "  File \"/usr/local/lib/python3.7/dist-packages/ray/tune/trainable.py\", line 248, in train\n",
            "    result = self.step()\n",
            "  File \"/usr/local/lib/python3.7/dist-packages/ray/tune/function_runner.py\", line 379, in step\n",
            "    self._report_thread_runner_error(block=True)\n",
            "  File \"/usr/local/lib/python3.7/dist-packages/ray/tune/function_runner.py\", line 527, in _report_thread_runner_error\n",
            "    (\"Trial raised an exception. Traceback:\\n{}\".format(err_tb_str)\n",
            "ray.tune.error.TuneError: Trial raised an exception. Traceback:\n",
            "\u001b[36mray::ImplicitFunc.train_buffered()\u001b[39m (pid=460, ip=172.28.0.2, repr=<types.ImplicitFunc object at 0x7f257ab2ca50>)\n",
            "  File \"/usr/local/lib/python3.7/dist-packages/ray/tune/function_runner.py\", line 260, in run\n",
            "    self._entrypoint()\n",
            "  File \"/usr/local/lib/python3.7/dist-packages/ray/tune/function_runner.py\", line 329, in entrypoint\n",
            "    self._status_reporter.get_checkpoint())\n",
            "  File \"/usr/local/lib/python3.7/dist-packages/ray/tune/function_runner.py\", line 595, in _trainable_func\n",
            "    handle_output(output)\n",
            "  File \"/usr/local/lib/python3.7/dist-packages/ray/tune/function_runner.py\", line 585, in handle_output\n",
            "    \"Invalid return or yield value. Either return/yield \"\n",
            "ValueError: Invalid return or yield value. Either return/yield a single number or a dictionary object in your trainable function.\n",
            "\n"
          ]
        }
      ]
    },
    {
      "cell_type": "markdown",
      "metadata": {
        "id": "FFD5bCmS3dyv"
      },
      "source": [
        "# plot hypersearch results\n",
        "https://docs.ray.io/en/master/tune/api_docs/analysis.html#tune-analysis-docs"
      ],
      "id": "FFD5bCmS3dyv"
    },
    {
      "cell_type": "code",
      "metadata": {
        "colab": {
          "base_uri": "https://localhost:8080/"
        },
        "id": "DPuA3-Ws3nHB",
        "outputId": "b038b76f-76c5-4f28-e53c-79150c168a9e"
      },
      "source": [
        "from ray.tune import Analysis\n",
        "# Result logdir: /root/ray_results/regression_2021-10-25_09-24-01\n",
        "result = Analysis(\"/root/ray_results/regression_2021-10-25_09-24-01\", \"val_loss\", \"min\")\n",
        "best_trial_logdir = result.get_best_logdir(\"val_loss\", \"min\")\n",
        "print(f\"Best trial config:{result.get_best_config()}\")"
      ],
      "id": "DPuA3-Ws3nHB",
      "execution_count": null,
      "outputs": [
        {
          "output_type": "stream",
          "name": "stdout",
          "text": [
            "Best trial config:{'bsize': 4, 'lr': 0.0008315204214386407, 'num_clauses': 5, 'num_conv': 2, 'num_dense': 16, 'num_epochs': 150, 'num_mc_runs': 100, 'number': 1, 'start_temperature': 10}\n"
          ]
        }
      ]
    },
    {
      "cell_type": "code",
      "metadata": {
        "colab": {
          "base_uri": "https://localhost:8080/",
          "height": 274
        },
        "id": "uiosXVaM38NB",
        "outputId": "1996b279-d972-432f-c73e-40d63db3ba90"
      },
      "source": [
        "# only for current experiment\n",
        "from ray.tune import ExperimentAnalysis\n",
        "# result = ExperimentAnalysis(\"../../ray_results/EC3_48/experiment_st\n",
        "best_trial = result.get_best_trial(\"val_loss\", \"min\", \"all\") # get_best_trial(metric, mode, scope)\n",
        "# https://docs.ray.io/en/master/tune/api_docs/internals.html#trial-docstring\n",
        "best_trial_logdir = best_trial.logdir\n",
        "print(f\"Best trial config: {best_trial.config}\")"
      ],
      "id": "uiosXVaM38NB",
      "execution_count": null,
      "outputs": [
        {
          "output_type": "stream",
          "name": "stderr",
          "text": [
            "2021-10-25 10:04:09,481\tWARNING experiment_analysis.py:649 -- Could not find best trial. Did you pass the correct `metric` parameter?\n"
          ]
        },
        {
          "output_type": "error",
          "ename": "AttributeError",
          "evalue": "ignored",
          "traceback": [
            "\u001b[0;31m---------------------------------------------------------------------------\u001b[0m",
            "\u001b[0;31mAttributeError\u001b[0m                            Traceback (most recent call last)",
            "\u001b[0;32m<ipython-input-30-b52b191b0f88>\u001b[0m in \u001b[0;36m<module>\u001b[0;34m()\u001b[0m\n\u001b[1;32m      4\u001b[0m \u001b[0mbest_trial\u001b[0m \u001b[0;34m=\u001b[0m \u001b[0mresult\u001b[0m\u001b[0;34m.\u001b[0m\u001b[0mget_best_trial\u001b[0m\u001b[0;34m(\u001b[0m\u001b[0;34m\"loss_test\"\u001b[0m\u001b[0;34m,\u001b[0m \u001b[0;34m\"min\"\u001b[0m\u001b[0;34m,\u001b[0m \u001b[0;34m\"all\"\u001b[0m\u001b[0;34m)\u001b[0m \u001b[0;31m# get_best_trial(metric, mode, scope)\u001b[0m\u001b[0;34m\u001b[0m\u001b[0;34m\u001b[0m\u001b[0m\n\u001b[1;32m      5\u001b[0m \u001b[0;31m# https://docs.ray.io/en/master/tune/api_docs/internals.html#trial-docstring\u001b[0m\u001b[0;34m\u001b[0m\u001b[0;34m\u001b[0m\u001b[0;34m\u001b[0m\u001b[0m\n\u001b[0;32m----> 6\u001b[0;31m \u001b[0mbest_trial_logdir\u001b[0m \u001b[0;34m=\u001b[0m \u001b[0mbest_trial\u001b[0m\u001b[0;34m.\u001b[0m\u001b[0mlogdir\u001b[0m\u001b[0;34m\u001b[0m\u001b[0;34m\u001b[0m\u001b[0m\n\u001b[0m\u001b[1;32m      7\u001b[0m \u001b[0mprint\u001b[0m\u001b[0;34m(\u001b[0m\u001b[0;34mf\"Best trial config: {best_trial.config}\"\u001b[0m\u001b[0;34m)\u001b[0m\u001b[0;34m\u001b[0m\u001b[0;34m\u001b[0m\u001b[0m\n",
            "\u001b[0;31mAttributeError\u001b[0m: 'NoneType' object has no attribute 'logdir'"
          ]
        }
      ]
    },
    {
      "cell_type": "code",
      "metadata": {
        "id": "WH5fJ_hl4EKd"
      },
      "source": [
        "if isinstance(result, ExperimentAnalysis):\n",
        "    # Get a dataframe for the last reported results of all of the trials\n",
        "    df_all_last = result.results_df\n",
        "\n",
        "    # Get a list of trials\n",
        "    trials = result.trials\n",
        "else:\n",
        "    df_all_last = result.dataframe()"
      ],
      "id": "WH5fJ_hl4EKd",
      "execution_count": null,
      "outputs": []
    },
    {
      "cell_type": "code",
      "metadata": {
        "id": "Ujo0GZOj4JIG"
      },
      "source": [
        "# works with analysis and experiment\n",
        "# Get a dataframe for the min loss_test seen for each trial\n",
        "df_loss_test_min = result.dataframe(metric=\"val_loss\", mode=\"min\")\n",
        "df_loss_min = result.dataframe(metric=\"loss\", mode=\"min\")\n",
        "\n",
        "# Get a dict mapping {trial logdir -> dataframes} for all trials in the experiment.\n",
        "d_all = result.trial_dataframes\n",
        "# In the end, it does this:\n",
        "# d_all = result.fetch_trial_dataframes()"
      ],
      "id": "Ujo0GZOj4JIG",
      "execution_count": null,
      "outputs": []
    },
    {
      "cell_type": "code",
      "metadata": {
        "colab": {
          "base_uri": "https://localhost:8080/",
          "height": 1000
        },
        "id": "9L3nYyio4NyF",
        "outputId": "1d9c7963-116b-4765-9c7e-c7f99a2768da"
      },
      "source": [
        "df_all_last.sort_values(by=[\"val_loss\",\"loss\"], ascending=[1,1]).T#[25]"
      ],
      "id": "9L3nYyio4NyF",
      "execution_count": null,
      "outputs": [
        {
          "output_type": "execute_result",
          "data": {
            "text/html": [
              "<div>\n",
              "<style scoped>\n",
              "    .dataframe tbody tr th:only-of-type {\n",
              "        vertical-align: middle;\n",
              "    }\n",
              "\n",
              "    .dataframe tbody tr th {\n",
              "        vertical-align: top;\n",
              "    }\n",
              "\n",
              "    .dataframe thead th {\n",
              "        text-align: right;\n",
              "    }\n",
              "</style>\n",
              "<table border=\"1\" class=\"dataframe\">\n",
              "  <thead>\n",
              "    <tr style=\"text-align: right;\">\n",
              "      <th></th>\n",
              "      <th>13</th>\n",
              "      <th>14</th>\n",
              "      <th>11</th>\n",
              "      <th>0</th>\n",
              "      <th>1</th>\n",
              "      <th>5</th>\n",
              "      <th>4</th>\n",
              "      <th>9</th>\n",
              "      <th>12</th>\n",
              "      <th>3</th>\n",
              "      <th>8</th>\n",
              "      <th>7</th>\n",
              "      <th>6</th>\n",
              "      <th>10</th>\n",
              "      <th>2</th>\n",
              "      <th>15</th>\n",
              "    </tr>\n",
              "  </thead>\n",
              "  <tbody>\n",
              "    <tr>\n",
              "      <th>loss</th>\n",
              "      <td>0.0697366</td>\n",
              "      <td>0.0701108</td>\n",
              "      <td>0.0707765</td>\n",
              "      <td>0.0747928</td>\n",
              "      <td>0.0807062</td>\n",
              "      <td>0.0826645</td>\n",
              "      <td>0.0825811</td>\n",
              "      <td>0.0883415</td>\n",
              "      <td>0.0925102</td>\n",
              "      <td>0.0934322</td>\n",
              "      <td>0.0946247</td>\n",
              "      <td>0.0926843</td>\n",
              "      <td>0.0929989</td>\n",
              "      <td>0.0941577</td>\n",
              "      <td>0.0941164</td>\n",
              "      <td>0.0924611</td>\n",
              "    </tr>\n",
              "    <tr>\n",
              "      <th>val_loss</th>\n",
              "      <td>0.0705841</td>\n",
              "      <td>0.072833</td>\n",
              "      <td>0.0729049</td>\n",
              "      <td>0.0742328</td>\n",
              "      <td>0.0818459</td>\n",
              "      <td>0.082108</td>\n",
              "      <td>0.0825141</td>\n",
              "      <td>0.0867349</td>\n",
              "      <td>0.0885101</td>\n",
              "      <td>0.0928613</td>\n",
              "      <td>0.0929655</td>\n",
              "      <td>0.0934749</td>\n",
              "      <td>0.0935353</td>\n",
              "      <td>0.0940735</td>\n",
              "      <td>0.0942304</td>\n",
              "      <td>0.0950073</td>\n",
              "    </tr>\n",
              "    <tr>\n",
              "      <th>time_this_iter_s</th>\n",
              "      <td>15.0777</td>\n",
              "      <td>1.08599</td>\n",
              "      <td>7.7055</td>\n",
              "      <td>16.223</td>\n",
              "      <td>1.1057</td>\n",
              "      <td>2.15389</td>\n",
              "      <td>0.572591</td>\n",
              "      <td>1.00183</td>\n",
              "      <td>0.595747</td>\n",
              "      <td>1.54631</td>\n",
              "      <td>7.93181</td>\n",
              "      <td>0.984774</td>\n",
              "      <td>8.21748</td>\n",
              "      <td>8.29682</td>\n",
              "      <td>1.86922</td>\n",
              "      <td>0.359983</td>\n",
              "    </tr>\n",
              "    <tr>\n",
              "      <th>done</th>\n",
              "      <td>False</td>\n",
              "      <td>False</td>\n",
              "      <td>False</td>\n",
              "      <td>False</td>\n",
              "      <td>True</td>\n",
              "      <td>False</td>\n",
              "      <td>False</td>\n",
              "      <td>True</td>\n",
              "      <td>True</td>\n",
              "      <td>True</td>\n",
              "      <td>False</td>\n",
              "      <td>True</td>\n",
              "      <td>True</td>\n",
              "      <td>False</td>\n",
              "      <td>False</td>\n",
              "      <td>True</td>\n",
              "    </tr>\n",
              "    <tr>\n",
              "      <th>timesteps_total</th>\n",
              "      <td>NaN</td>\n",
              "      <td>NaN</td>\n",
              "      <td>NaN</td>\n",
              "      <td>NaN</td>\n",
              "      <td>NaN</td>\n",
              "      <td>NaN</td>\n",
              "      <td>NaN</td>\n",
              "      <td>NaN</td>\n",
              "      <td>NaN</td>\n",
              "      <td>NaN</td>\n",
              "      <td>NaN</td>\n",
              "      <td>NaN</td>\n",
              "      <td>NaN</td>\n",
              "      <td>NaN</td>\n",
              "      <td>NaN</td>\n",
              "      <td>NaN</td>\n",
              "    </tr>\n",
              "    <tr>\n",
              "      <th>episodes_total</th>\n",
              "      <td>NaN</td>\n",
              "      <td>NaN</td>\n",
              "      <td>NaN</td>\n",
              "      <td>NaN</td>\n",
              "      <td>NaN</td>\n",
              "      <td>NaN</td>\n",
              "      <td>NaN</td>\n",
              "      <td>NaN</td>\n",
              "      <td>NaN</td>\n",
              "      <td>NaN</td>\n",
              "      <td>NaN</td>\n",
              "      <td>NaN</td>\n",
              "      <td>NaN</td>\n",
              "      <td>NaN</td>\n",
              "      <td>NaN</td>\n",
              "      <td>NaN</td>\n",
              "    </tr>\n",
              "    <tr>\n",
              "      <th>training_iteration</th>\n",
              "      <td>145</td>\n",
              "      <td>149</td>\n",
              "      <td>145</td>\n",
              "      <td>37</td>\n",
              "      <td>10</td>\n",
              "      <td>9</td>\n",
              "      <td>4</td>\n",
              "      <td>5</td>\n",
              "      <td>5</td>\n",
              "      <td>5</td>\n",
              "      <td>2</td>\n",
              "      <td>5</td>\n",
              "      <td>5</td>\n",
              "      <td>1</td>\n",
              "      <td>4</td>\n",
              "      <td>5</td>\n",
              "    </tr>\n",
              "    <tr>\n",
              "      <th>experiment_id</th>\n",
              "      <td>bf6f1eb66b674adbb5091d3bed28f145</td>\n",
              "      <td>203dd94ad21042feacf7d046cc2a6556</td>\n",
              "      <td>159625cda9134516ab6f06c5fd1bef3b</td>\n",
              "      <td>e99784037b114ec79f78b33334b79607</td>\n",
              "      <td>00720ce8d65a42e9bdf232c01cfa2c99</td>\n",
              "      <td>d7a333a7e3d949e5b27aa15cd6733c3e</td>\n",
              "      <td>fcf775dad998447a98d410d1c386065f</td>\n",
              "      <td>97a9d4e792e64c03ad175e8e5a832e4a</td>\n",
              "      <td>278a36807bb744daae6b5930c8bbfbae</td>\n",
              "      <td>f9dbc17e22444850bf2a950aaea0d097</td>\n",
              "      <td>ace94ce795774165a9df950fc15a940f</td>\n",
              "      <td>e6e877221c7844768b6da9ca5a7f9c98</td>\n",
              "      <td>cfa2efb45d69469fac4124ffdb424511</td>\n",
              "      <td>c8625495ee6e40c5a8af5e240731603d</td>\n",
              "      <td>7cc178ae1f9a44969c725ec8392d5230</td>\n",
              "      <td>29b1b8cf7991448a82deef1e1d32bb55</td>\n",
              "    </tr>\n",
              "    <tr>\n",
              "      <th>date</th>\n",
              "      <td>2021-10-25_10-01-27</td>\n",
              "      <td>2021-10-25_10-03-35</td>\n",
              "      <td>2021-10-25_09-43-28</td>\n",
              "      <td>2021-10-25_09-55-54</td>\n",
              "      <td>2021-10-25_09-57-42</td>\n",
              "      <td>2021-10-25_09-57-15</td>\n",
              "      <td>2021-10-25_09-44-37</td>\n",
              "      <td>2021-10-25_09-24-16</td>\n",
              "      <td>2021-10-25_09-57-59</td>\n",
              "      <td>2021-10-25_09-24-21</td>\n",
              "      <td>2021-10-25_09-45-25</td>\n",
              "      <td>2021-10-25_09-44-56</td>\n",
              "      <td>2021-10-25_09-58-52</td>\n",
              "      <td>2021-10-25_09-59-06</td>\n",
              "      <td>2021-10-25_09-24-40</td>\n",
              "      <td>2021-10-25_09-44-22</td>\n",
              "    </tr>\n",
              "    <tr>\n",
              "      <th>timestamp</th>\n",
              "      <td>1635156087</td>\n",
              "      <td>1635156215</td>\n",
              "      <td>1635155008</td>\n",
              "      <td>1635155754</td>\n",
              "      <td>1635155862</td>\n",
              "      <td>1635155835</td>\n",
              "      <td>1635155077</td>\n",
              "      <td>1635153856</td>\n",
              "      <td>1635155879</td>\n",
              "      <td>1635153861</td>\n",
              "      <td>1635155125</td>\n",
              "      <td>1635155096</td>\n",
              "      <td>1635155932</td>\n",
              "      <td>1635155946</td>\n",
              "      <td>1635153880</td>\n",
              "      <td>1635155062</td>\n",
              "    </tr>\n",
              "    <tr>\n",
              "      <th>time_total_s</th>\n",
              "      <td>2224.7</td>\n",
              "      <td>258.585</td>\n",
              "      <td>1120.12</td>\n",
              "      <td>599.352</td>\n",
              "      <td>18.9925</td>\n",
              "      <td>26.3456</td>\n",
              "      <td>9.40359</td>\n",
              "      <td>10.7532</td>\n",
              "      <td>10.4434</td>\n",
              "      <td>15.5276</td>\n",
              "      <td>22.7887</td>\n",
              "      <td>12.1641</td>\n",
              "      <td>47.1519</td>\n",
              "      <td>8.29682</td>\n",
              "      <td>14.4081</td>\n",
              "      <td>9.14735</td>\n",
              "    </tr>\n",
              "    <tr>\n",
              "      <th>pid</th>\n",
              "      <td>2550</td>\n",
              "      <td>4776</td>\n",
              "      <td>2691</td>\n",
              "      <td>3945</td>\n",
              "      <td>4453</td>\n",
              "      <td>4354</td>\n",
              "      <td>3702</td>\n",
              "      <td>2415</td>\n",
              "      <td>4546</td>\n",
              "      <td>2416</td>\n",
              "      <td>3852</td>\n",
              "      <td>3776</td>\n",
              "      <td>4622</td>\n",
              "      <td>4702</td>\n",
              "      <td>2586</td>\n",
              "      <td>3624</td>\n",
              "    </tr>\n",
              "    <tr>\n",
              "      <th>hostname</th>\n",
              "      <td>3382a7c6febc</td>\n",
              "      <td>3382a7c6febc</td>\n",
              "      <td>3382a7c6febc</td>\n",
              "      <td>3382a7c6febc</td>\n",
              "      <td>3382a7c6febc</td>\n",
              "      <td>3382a7c6febc</td>\n",
              "      <td>3382a7c6febc</td>\n",
              "      <td>3382a7c6febc</td>\n",
              "      <td>3382a7c6febc</td>\n",
              "      <td>3382a7c6febc</td>\n",
              "      <td>3382a7c6febc</td>\n",
              "      <td>3382a7c6febc</td>\n",
              "      <td>3382a7c6febc</td>\n",
              "      <td>3382a7c6febc</td>\n",
              "      <td>3382a7c6febc</td>\n",
              "      <td>3382a7c6febc</td>\n",
              "    </tr>\n",
              "    <tr>\n",
              "      <th>node_ip</th>\n",
              "      <td>172.28.0.2</td>\n",
              "      <td>172.28.0.2</td>\n",
              "      <td>172.28.0.2</td>\n",
              "      <td>172.28.0.2</td>\n",
              "      <td>172.28.0.2</td>\n",
              "      <td>172.28.0.2</td>\n",
              "      <td>172.28.0.2</td>\n",
              "      <td>172.28.0.2</td>\n",
              "      <td>172.28.0.2</td>\n",
              "      <td>172.28.0.2</td>\n",
              "      <td>172.28.0.2</td>\n",
              "      <td>172.28.0.2</td>\n",
              "      <td>172.28.0.2</td>\n",
              "      <td>172.28.0.2</td>\n",
              "      <td>172.28.0.2</td>\n",
              "      <td>172.28.0.2</td>\n",
              "    </tr>\n",
              "    <tr>\n",
              "      <th>time_since_restore</th>\n",
              "      <td>2224.7</td>\n",
              "      <td>258.585</td>\n",
              "      <td>1120.12</td>\n",
              "      <td>599.352</td>\n",
              "      <td>18.9925</td>\n",
              "      <td>26.3456</td>\n",
              "      <td>9.40359</td>\n",
              "      <td>10.7532</td>\n",
              "      <td>10.4434</td>\n",
              "      <td>15.5276</td>\n",
              "      <td>22.7887</td>\n",
              "      <td>12.1641</td>\n",
              "      <td>47.1519</td>\n",
              "      <td>8.29682</td>\n",
              "      <td>14.4081</td>\n",
              "      <td>9.14735</td>\n",
              "    </tr>\n",
              "    <tr>\n",
              "      <th>timesteps_since_restore</th>\n",
              "      <td>0</td>\n",
              "      <td>0</td>\n",
              "      <td>0</td>\n",
              "      <td>0</td>\n",
              "      <td>0</td>\n",
              "      <td>0</td>\n",
              "      <td>0</td>\n",
              "      <td>0</td>\n",
              "      <td>0</td>\n",
              "      <td>0</td>\n",
              "      <td>0</td>\n",
              "      <td>0</td>\n",
              "      <td>0</td>\n",
              "      <td>0</td>\n",
              "      <td>0</td>\n",
              "      <td>0</td>\n",
              "    </tr>\n",
              "    <tr>\n",
              "      <th>iterations_since_restore</th>\n",
              "      <td>145</td>\n",
              "      <td>149</td>\n",
              "      <td>145</td>\n",
              "      <td>37</td>\n",
              "      <td>10</td>\n",
              "      <td>9</td>\n",
              "      <td>4</td>\n",
              "      <td>5</td>\n",
              "      <td>5</td>\n",
              "      <td>5</td>\n",
              "      <td>2</td>\n",
              "      <td>5</td>\n",
              "      <td>5</td>\n",
              "      <td>1</td>\n",
              "      <td>4</td>\n",
              "      <td>5</td>\n",
              "    </tr>\n",
              "    <tr>\n",
              "      <th>trial_id</th>\n",
              "      <td>4a86d_00002</td>\n",
              "      <td>4a86d_00015</td>\n",
              "      <td>4a86d_00004</td>\n",
              "      <td>4a86d_00009</td>\n",
              "      <td>4a86d_00011</td>\n",
              "      <td>4a86d_00010</td>\n",
              "      <td>4a86d_00006</td>\n",
              "      <td>4a86d_00000</td>\n",
              "      <td>4a86d_00012</td>\n",
              "      <td>4a86d_00001</td>\n",
              "      <td>4a86d_00008</td>\n",
              "      <td>4a86d_00007</td>\n",
              "      <td>4a86d_00013</td>\n",
              "      <td>4a86d_00014</td>\n",
              "      <td>4a86d_00003</td>\n",
              "      <td>4a86d_00005</td>\n",
              "    </tr>\n",
              "    <tr>\n",
              "      <th>config/bsize</th>\n",
              "      <td>4</td>\n",
              "      <td>32</td>\n",
              "      <td>8</td>\n",
              "      <td>4</td>\n",
              "      <td>64</td>\n",
              "      <td>32</td>\n",
              "      <td>128</td>\n",
              "      <td>64</td>\n",
              "      <td>128</td>\n",
              "      <td>32</td>\n",
              "      <td>8</td>\n",
              "      <td>64</td>\n",
              "      <td>8</td>\n",
              "      <td>64</td>\n",
              "      <td>32</td>\n",
              "      <td>256</td>\n",
              "    </tr>\n",
              "    <tr>\n",
              "      <th>config/lr</th>\n",
              "      <td>0.00083152</td>\n",
              "      <td>0.00148384</td>\n",
              "      <td>0.000874342</td>\n",
              "      <td>0.00217659</td>\n",
              "      <td>0.000802534</td>\n",
              "      <td>0.00691605</td>\n",
              "      <td>0.00843193</td>\n",
              "      <td>0.000746246</td>\n",
              "      <td>0.00158812</td>\n",
              "      <td>0.00704558</td>\n",
              "      <td>0.00791114</td>\n",
              "      <td>0.000712661</td>\n",
              "      <td>0.00750296</td>\n",
              "      <td>0.00122377</td>\n",
              "      <td>0.00793418</td>\n",
              "      <td>0.000781108</td>\n",
              "    </tr>\n",
              "    <tr>\n",
              "      <th>config/num_clauses</th>\n",
              "      <td>5</td>\n",
              "      <td>5</td>\n",
              "      <td>5</td>\n",
              "      <td>5</td>\n",
              "      <td>5</td>\n",
              "      <td>5</td>\n",
              "      <td>5</td>\n",
              "      <td>5</td>\n",
              "      <td>5</td>\n",
              "      <td>5</td>\n",
              "      <td>5</td>\n",
              "      <td>5</td>\n",
              "      <td>5</td>\n",
              "      <td>5</td>\n",
              "      <td>5</td>\n",
              "      <td>5</td>\n",
              "    </tr>\n",
              "    <tr>\n",
              "      <th>config/num_conv</th>\n",
              "      <td>2</td>\n",
              "      <td>2</td>\n",
              "      <td>2</td>\n",
              "      <td>2</td>\n",
              "      <td>2</td>\n",
              "      <td>2</td>\n",
              "      <td>2</td>\n",
              "      <td>2</td>\n",
              "      <td>2</td>\n",
              "      <td>2</td>\n",
              "      <td>2</td>\n",
              "      <td>2</td>\n",
              "      <td>2</td>\n",
              "      <td>2</td>\n",
              "      <td>2</td>\n",
              "      <td>2</td>\n",
              "    </tr>\n",
              "    <tr>\n",
              "      <th>config/num_dense</th>\n",
              "      <td>16</td>\n",
              "      <td>16</td>\n",
              "      <td>16</td>\n",
              "      <td>16</td>\n",
              "      <td>16</td>\n",
              "      <td>16</td>\n",
              "      <td>16</td>\n",
              "      <td>16</td>\n",
              "      <td>16</td>\n",
              "      <td>16</td>\n",
              "      <td>16</td>\n",
              "      <td>16</td>\n",
              "      <td>16</td>\n",
              "      <td>16</td>\n",
              "      <td>16</td>\n",
              "      <td>16</td>\n",
              "    </tr>\n",
              "    <tr>\n",
              "      <th>config/num_epochs</th>\n",
              "      <td>150</td>\n",
              "      <td>150</td>\n",
              "      <td>150</td>\n",
              "      <td>150</td>\n",
              "      <td>150</td>\n",
              "      <td>150</td>\n",
              "      <td>150</td>\n",
              "      <td>150</td>\n",
              "      <td>150</td>\n",
              "      <td>150</td>\n",
              "      <td>150</td>\n",
              "      <td>150</td>\n",
              "      <td>150</td>\n",
              "      <td>150</td>\n",
              "      <td>150</td>\n",
              "      <td>150</td>\n",
              "    </tr>\n",
              "    <tr>\n",
              "      <th>config/num_mc_runs</th>\n",
              "      <td>100</td>\n",
              "      <td>100</td>\n",
              "      <td>100</td>\n",
              "      <td>100</td>\n",
              "      <td>100</td>\n",
              "      <td>100</td>\n",
              "      <td>100</td>\n",
              "      <td>100</td>\n",
              "      <td>100</td>\n",
              "      <td>100</td>\n",
              "      <td>100</td>\n",
              "      <td>100</td>\n",
              "      <td>100</td>\n",
              "      <td>100</td>\n",
              "      <td>100</td>\n",
              "      <td>100</td>\n",
              "    </tr>\n",
              "    <tr>\n",
              "      <th>config/number</th>\n",
              "      <td>1</td>\n",
              "      <td>1</td>\n",
              "      <td>1</td>\n",
              "      <td>1</td>\n",
              "      <td>1</td>\n",
              "      <td>1</td>\n",
              "      <td>1</td>\n",
              "      <td>1</td>\n",
              "      <td>1</td>\n",
              "      <td>1</td>\n",
              "      <td>1</td>\n",
              "      <td>1</td>\n",
              "      <td>1</td>\n",
              "      <td>1</td>\n",
              "      <td>1</td>\n",
              "      <td>1</td>\n",
              "    </tr>\n",
              "    <tr>\n",
              "      <th>config/start_temperature</th>\n",
              "      <td>10</td>\n",
              "      <td>10</td>\n",
              "      <td>10</td>\n",
              "      <td>10</td>\n",
              "      <td>10</td>\n",
              "      <td>10</td>\n",
              "      <td>10</td>\n",
              "      <td>10</td>\n",
              "      <td>10</td>\n",
              "      <td>10</td>\n",
              "      <td>10</td>\n",
              "      <td>10</td>\n",
              "      <td>10</td>\n",
              "      <td>10</td>\n",
              "      <td>10</td>\n",
              "      <td>10</td>\n",
              "    </tr>\n",
              "    <tr>\n",
              "      <th>logdir</th>\n",
              "      <td>/root/ray_results/regression_2021-10-25_09-24-...</td>\n",
              "      <td>/root/ray_results/regression_2021-10-25_09-24-...</td>\n",
              "      <td>/root/ray_results/regression_2021-10-25_09-24-...</td>\n",
              "      <td>/root/ray_results/regression_2021-10-25_09-24-...</td>\n",
              "      <td>/root/ray_results/regression_2021-10-25_09-24-...</td>\n",
              "      <td>/root/ray_results/regression_2021-10-25_09-24-...</td>\n",
              "      <td>/root/ray_results/regression_2021-10-25_09-24-...</td>\n",
              "      <td>/root/ray_results/regression_2021-10-25_09-24-...</td>\n",
              "      <td>/root/ray_results/regression_2021-10-25_09-24-...</td>\n",
              "      <td>/root/ray_results/regression_2021-10-25_09-24-...</td>\n",
              "      <td>/root/ray_results/regression_2021-10-25_09-24-...</td>\n",
              "      <td>/root/ray_results/regression_2021-10-25_09-24-...</td>\n",
              "      <td>/root/ray_results/regression_2021-10-25_09-24-...</td>\n",
              "      <td>/root/ray_results/regression_2021-10-25_09-24-...</td>\n",
              "      <td>/root/ray_results/regression_2021-10-25_09-24-...</td>\n",
              "      <td>/root/ray_results/regression_2021-10-25_09-24-...</td>\n",
              "    </tr>\n",
              "  </tbody>\n",
              "</table>\n",
              "</div>"
            ],
            "text/plain": [
              "                                                                         13  ...                                                 15\n",
              "loss                                                              0.0697366  ...                                          0.0924611\n",
              "val_loss                                                          0.0705841  ...                                          0.0950073\n",
              "time_this_iter_s                                                    15.0777  ...                                           0.359983\n",
              "done                                                                  False  ...                                               True\n",
              "timesteps_total                                                         NaN  ...                                                NaN\n",
              "episodes_total                                                          NaN  ...                                                NaN\n",
              "training_iteration                                                      145  ...                                                  5\n",
              "experiment_id                              bf6f1eb66b674adbb5091d3bed28f145  ...                   29b1b8cf7991448a82deef1e1d32bb55\n",
              "date                                                    2021-10-25_10-01-27  ...                                2021-10-25_09-44-22\n",
              "timestamp                                                        1635156087  ...                                         1635155062\n",
              "time_total_s                                                         2224.7  ...                                            9.14735\n",
              "pid                                                                    2550  ...                                               3624\n",
              "hostname                                                       3382a7c6febc  ...                                       3382a7c6febc\n",
              "node_ip                                                          172.28.0.2  ...                                         172.28.0.2\n",
              "time_since_restore                                                   2224.7  ...                                            9.14735\n",
              "timesteps_since_restore                                                   0  ...                                                  0\n",
              "iterations_since_restore                                                145  ...                                                  5\n",
              "trial_id                                                        4a86d_00002  ...                                        4a86d_00005\n",
              "config/bsize                                                              4  ...                                                256\n",
              "config/lr                                                        0.00083152  ...                                        0.000781108\n",
              "config/num_clauses                                                        5  ...                                                  5\n",
              "config/num_conv                                                           2  ...                                                  2\n",
              "config/num_dense                                                         16  ...                                                 16\n",
              "config/num_epochs                                                       150  ...                                                150\n",
              "config/num_mc_runs                                                      100  ...                                                100\n",
              "config/number                                                             1  ...                                                  1\n",
              "config/start_temperature                                                 10  ...                                                 10\n",
              "logdir                    /root/ray_results/regression_2021-10-25_09-24-...  ...  /root/ray_results/regression_2021-10-25_09-24-...\n",
              "\n",
              "[28 rows x 16 columns]"
            ]
          },
          "metadata": {},
          "execution_count": 35
        }
      ]
    },
    {
      "cell_type": "code",
      "metadata": {
        "colab": {
          "base_uri": "https://localhost:8080/",
          "height": 283
        },
        "id": "b-PKPbag4aJc",
        "outputId": "6adfc71a-8a8d-4746-c08b-6efb4605e66b"
      },
      "source": [
        "ax = None\n",
        "for d in d_all.values(): # plot the 3 or 4 best trials\n",
        "    ax = d.val_loss.plot(ax=ax, legend=False,grid=True,\n",
        "                          xlabel=\"epochs\", ylabel=\"Loss\",\n",
        "                          alpha=0.5, #title=title,\n",
        "                          style=['-'],lw=0.8,\n",
        "                         );\n",
        "ax.set_ylim(0.06,0.1);"
      ],
      "id": "b-PKPbag4aJc",
      "execution_count": null,
      "outputs": [
        {
          "output_type": "display_data",
          "data": {
            "image/png": "[encoded data removed]",
            "text/plain": [
              "<Figure size 432x288 with 1 Axes>"
            ]
          },
          "metadata": {
            "needs_background": "light"
          }
        }
      ]
    },
    {
      "cell_type": "code",
      "metadata": {
        "id": "txATObHn6ooQ"
      },
      "source": [
        "import matplotlib.pyplot as plt"
      ],
      "id": "txATObHn6ooQ",
      "execution_count": null,
      "outputs": []
    },
    {
      "cell_type": "code",
      "metadata": {
        "colab": {
          "base_uri": "https://localhost:8080/",
          "height": 279
        },
        "id": "YtK8B3Aa42lB",
        "outputId": "2315fad5-4f61-4352-d546-2ced0696f375"
      },
      "source": [
        "# Plot by wall-clock time\n",
        "ax = None\n",
        "for d in d_all.values():\n",
        "    ax = d.plot(\"timestamp\", \"val_loss\", ax=ax, legend=False,grid=True,)\n",
        "plt.yscale('log')\n",
        "plt.xlabel(\"timestamp\"); plt.ylabel(\"Loss\");"
      ],
      "id": "YtK8B3Aa42lB",
      "execution_count": null,
      "outputs": [
        {
          "output_type": "display_data",
          "data": {
            "image/png": "[encoded data removed]",
            "text/plain": [
              "<Figure size 432x288 with 1 Axes>"
            ]
          },
          "metadata": {
            "needs_background": "light"
          }
        }
      ]
    },
    {
      "cell_type": "code",
      "metadata": {
        "colab": {
          "base_uri": "https://localhost:8080/",
          "height": 283
        },
        "id": "v0gjLV5sUe6q",
        "outputId": "47f4ceba-ca6a-4df3-8675-9bf1bc5ca495"
      },
      "source": [
        "plt.plot(reg.hist.history['loss'], label='train. loss')\n",
        "plt.plot(reg.hist.history['val_loss'], label='val. loss')\n",
        "plt.xlabel('epochs'); plt.ylabel('loss');\n",
        "plt.grid(); plt.legend();\n",
        "plt.ylim(0.06,0.1);"
      ],
      "id": "v0gjLV5sUe6q",
      "execution_count": null,
      "outputs": [
        {
          "output_type": "display_data",
          "data": {
            "image/png": "[encoded data removed]",
            "text/plain": [
              "<Figure size 432x288 with 1 Axes>"
            ]
          },
          "metadata": {
            "needs_background": "light"
          }
        }
      ]
    },
    {
      "cell_type": "code",
      "metadata": {
        "colab": {
          "base_uri": "https://localhost:8080/",
          "height": 283
        },
        "id": "X6JtLFCrpf6F",
        "outputId": "82b8fc93-91ba-4ae7-c7d6-ef7c50fc4bce"
      },
      "source": [
        "plt.plot(reg.hist.history['loss'], label='train. loss')\n",
        "plt.plot(reg.hist.history['val_loss'], label='val. loss')\n",
        "plt.xlabel('epochs'); plt.ylabel('loss');\n",
        "plt.grid(); plt.legend();\n",
        "plt.ylim(0.06,0.1);\n",
        "\n",
        "slope = (np.array(reg.hist.history['val_loss'])[2:]-np.array(reg.hist.history['val_loss'])[:-2])/3.\n",
        "win = 2*10\n",
        "slope_avg = np.array([slope[i:i+win].mean() for i in range(len(slope)-win)])\n",
        "ax2 = plt.gca().twinx()\n",
        "ax2.plot(range(1+win//2,len(reg.hist.history['val_loss'])-1-win//2),slope_avg, alpha=0.7);\n",
        "ax2.plot(range(1,len(reg.hist.history['val_loss'])-1),slope, alpha=0.4);\n",
        "ax2.set_ylabel('slope')\n",
        "ax2.set_yscale(\"symlog\", linthreshy=1e-6)"
      ],
      "id": "X6JtLFCrpf6F",
      "execution_count": null,
      "outputs": [
        {
          "output_type": "display_data",
          "data": {
            "image/png": "[encoded data removed]",
            "text/plain": [
              "<Figure size 432x288 with 2 Axes>"
            ]
          },
          "metadata": {
            "needs_background": "light"
          }
        }
      ]
    },
    {
      "cell_type": "code",
      "metadata": {
        "id": "adult-theater",
        "colab": {
          "base_uri": "https://localhost:8080/",
          "height": 295
        },
        "outputId": "7181743e-05a4-40c0-ae6b-90ac5f884c2a"
      },
      "source": [
        "plt.hist2d(reg.model.predict(reg.X_test).flatten(), reg.Y_test, bins = 30);\n",
        "plt.plot([reg.Y_test.min(), reg.Y_test.max()], [reg.Y_test.min(), reg.Y_test.max()], 'w')\n",
        "plt.xlabel('predicted fidelity')\n",
        "plt.ylabel('true fidelity')\n",
        "plt.title('test data');"
      ],
      "id": "adult-theater",
      "execution_count": null,
      "outputs": [
        {
          "output_type": "display_data",
          "data": {
            "image/png": "[encoded data removed]",
            "text/plain": [
              "<Figure size 432x288 with 1 Axes>"
            ]
          },
          "metadata": {
            "needs_background": "light"
          }
        }
      ]
    },
    {
      "cell_type": "code",
      "metadata": {
        "colab": {
          "base_uri": "https://localhost:8080/"
        },
        "id": "VSXvdoa7KxAN",
        "outputId": "099ef48c-0650-4e30-af55-b5a9181ab1aa"
      },
      "source": [
        "reg.model.summary()"
      ],
      "id": "VSXvdoa7KxAN",
      "execution_count": null,
      "outputs": [
        {
          "output_type": "stream",
          "name": "stdout",
          "text": [
            "Model: \"Causal_CNN_regressor\"\n",
            "_________________________________________________________________\n",
            "Layer (type)                 Output Shape              Param #   \n",
            "=================================================================\n",
            "conv1d (Conv1D)              (None, 50, 4)             84        \n",
            "_________________________________________________________________\n",
            "conv1d_1 (Conv1D)            (None, 25, 2)             18        \n",
            "_________________________________________________________________\n",
            "conv1d_2 (Conv1D)            (None, 12, 1)             5         \n",
            "_________________________________________________________________\n",
            "flatten (Flatten)            (None, 12)                0         \n",
            "_________________________________________________________________\n",
            "dense (Dense)                (None, 16)                208       \n",
            "_________________________________________________________________\n",
            "dense_1 (Dense)              (None, 1)                 17        \n",
            "=================================================================\n",
            "Total params: 332\n",
            "Trainable params: 332\n",
            "Non-trainable params: 0\n",
            "_________________________________________________________________\n"
          ]
        }
      ]
    },
    {
      "cell_type": "code",
      "metadata": {
        "colab": {
          "base_uri": "https://localhost:8080/"
        },
        "id": "-vbYhjNwOxMZ",
        "outputId": "3123ccef-e0c1-4db7-bc56-61c11a25d960"
      },
      "source": [
        "reg.model.summary()"
      ],
      "id": "-vbYhjNwOxMZ",
      "execution_count": null,
      "outputs": [
        {
          "output_type": "stream",
          "name": "stdout",
          "text": [
            "Model: \"Causal_CNN_regressor\"\n",
            "_________________________________________________________________\n",
            "Layer (type)                 Output Shape              Param #   \n",
            "=================================================================\n",
            "conv1d (Conv1D)              (None, 100, 1)            11        \n",
            "_________________________________________________________________\n",
            "conv1d_1 (Conv1D)            (None, 50, 4)             12        \n",
            "_________________________________________________________________\n",
            "conv1d_2 (Conv1D)            (None, 25, 2)             18        \n",
            "_________________________________________________________________\n",
            "conv1d_3 (Conv1D)            (None, 12, 1)             5         \n",
            "_________________________________________________________________\n",
            "flatten (Flatten)            (None, 12)                0         \n",
            "_________________________________________________________________\n",
            "dense (Dense)                (None, 16)                208       \n",
            "_________________________________________________________________\n",
            "dense_1 (Dense)              (None, 1)                 17        \n",
            "=================================================================\n",
            "Total params: 271\n",
            "Trainable params: 271\n",
            "Non-trainable params: 0\n",
            "_________________________________________________________________\n"
          ]
        }
      ]
    }
  ]
}