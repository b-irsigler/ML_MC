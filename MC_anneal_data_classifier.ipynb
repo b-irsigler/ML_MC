{
 "cells": [
  {
   "cell_type": "code",
   "execution_count": 1,
   "id": "modified-clothing",
   "metadata": {},
   "outputs": [],
   "source": [
    "import numpy as np\n",
    "import matplotlib.pyplot as plt\n",
    "from collections import Counter\n",
    "\n",
    "#import matplotlib.pyplot as plt\n",
    "#import numpy as np\n",
    "#import pandas as pd\n",
    "#import seaborn as sns\n",
    "\n",
    "import tensorflow as tf\n",
    "\n",
    "from tensorflow import keras\n",
    "from tensorflow.keras import layers\n",
    "#from tensorflow.keras.layers.experimental import preprocessing\n",
    "#from tensorflow.keras.callbacks import EarlyStopping\n",
    "from sklearn.model_selection import train_test_split\n",
    "\n",
    "#from scipy.stats import pearsonr, spearmanr\n"
   ]
  },
  {
   "cell_type": "code",
   "execution_count": 2,
   "id": "associate-orange",
   "metadata": {},
   "outputs": [],
   "source": [
    "class Analyzer:\n",
    "    def __init__(self, num_spins, num_clauses, num_instances, number):\n",
    "        self.num_spins = num_spins\n",
    "        self.num_clauses = num_clauses\n",
    "        self.num_instances = num_instances\n",
    "        self.number = number\n",
    "    \n",
    "    def load_parameters(self):\n",
    "        with open(\n",
    "            f'ec3_spins{self.num_spins}_' +\n",
    "            f'clauses{self.num_clauses}_' +\n",
    "            f'instances{self.num_instances}_' +\n",
    "            f'{self.number}.txt', 'r') as text_file:\n",
    "            params = text_file.read()\n",
    "            \n",
    "        params = params.split('\\n')\n",
    "        params = [i.split('=')[1] for i in text[:7]]\n",
    "        \n",
    "        self.num_clauses_list = eval(params[1])\n",
    "        self.num_runs_list = eval(params[3])\n",
    "        self.temperature_list = eval(params[4])\n",
    "        self.anneal_T = int(params[5])\n",
    "        self.anneal_steps = int(params[6])\n",
    "        \n",
    "    def load_results(self):\n",
    "        loaded_npz = np.load(\n",
    "            f'ec3_spins{self.num_spins}_' +\n",
    "            f'clauses{self.num_clauses}_' +\n",
    "            f'instances{self.num_instances}_' +\n",
    "            f'{self.number}.npz')\n",
    "        self.res_clauses = loaded_npz['res_clauses']\n",
    "        self.res_hamiltonian_diag = loaded_npz['res_hamiltonian_diag']\n",
    "        self.res_mc_samples = loaded_npz['res_mc_samples']\n",
    "        self.res_fidelity = loaded_npz['res_fidelity']\n",
    "        \n",
    "    def distribution(self, sampled_energies, full_energies):\n",
    "        cnt_full = Counter(full_energies)\n",
    "        \n",
    "        \n",
    "        cnt_mc = Counter(sampled_energies)\n",
    "        ener = []\n",
    "        occ = []\n",
    "        for item in cnt_full:\n",
    "            ener += [item]\n",
    "            occ += [cnt_mc[item] / cnt_full[item]]\n",
    "\n",
    "        ind = np.argsort(ener)\n",
    "        return np.array(ener)[ind], np.array(occ)[ind]\n",
    "\n"
   ]
  },
  {
   "cell_type": "code",
   "execution_count": 3,
   "id": "hispanic-james",
   "metadata": {},
   "outputs": [],
   "source": [
    "class Classifier(Analyzer):\n",
    "    \n",
    "    def __init__(self, num_spins, num_clauses, num_instances, number):\n",
    "        # To keep the order of initialization, some booleans are introduced.\n",
    "        super(Classifier, self).__init__(num_spins, num_clauses, num_instances, number)\n",
    "        self.dataIsPrepared = False\n",
    "        self.modelIsPrepared = False\n",
    "        self.modelIsTrained = False\n",
    "        self.alreadyReduced = False\n",
    "        \n",
    "    def prepare_full_hamiltonian_data(self, binning, test_size = 0.2):\n",
    "        # Load all the files and as data the full Hamiltonian.\n",
    "        self.load_results()\n",
    "        data = self.res_hamiltonian_diag\n",
    "        \n",
    "        # Assign some numbers.\n",
    "        self.N_instance, self.N_feature = data.shape\n",
    "        self.N_train = int((1-test_size)*self.N_instance)\n",
    "        self.N_test = int(test_size*self.N_instance)\n",
    "        \n",
    "        # Perform min max normalization.\n",
    "        data = data - data.min()\n",
    "        data /= data.max() - data.min()\n",
    "        \n",
    "        # Load as labels the final fidelity.\n",
    "        labels = self.res_fidelity[:, -1]\n",
    "        \n",
    "        # Set classes for fidelity.\n",
    "        self.N_categories = binning.shape[0] - 1\n",
    "        \n",
    "        # One-hot representation\n",
    "        bin_rep = np.digitize(labels, binning)\n",
    "        # Carry on only with fidelities within the binning.\n",
    "        bin_rep_inner = bin_rep[np.logical_and(bin_rep > 0, bin_rep < len(binning))]\n",
    "        if len(bin_rep) > len(bin_rep_inner):\n",
    "            print('Binning excludes data.')\n",
    "        one_hot_rep = np.identity(len(binning) - 1)[bin_rep_inner - 1]\n",
    "        \n",
    "        # Reshape data for the CNN with one channel.\n",
    "        data_CNN = data.reshape((-1, self.N_feature, 1))\n",
    "        \n",
    "        #split train/test data\n",
    "        X_train, X_test, Y_train, Y_test = train_test_split(\n",
    "                                            data_CNN, \\\n",
    "                                            one_hot_rep,\\\n",
    "                                            test_size=test_size)\n",
    "        \n",
    "        self.X_train, self.X_test = X_train, X_test \n",
    "        self.Y_train, self.Y_test = Y_train, Y_test \n",
    "        \n",
    "        self.dataIsPrepared = True\n",
    "        \n",
    "    def CNN(self, num_conv, num_pool, drop_out, num_dense, learn_rate):\n",
    "        # Build up CNN with variable parameter. Ranges should be:\n",
    "        # num_conv in [4, 8, 16]\n",
    "        # num_pool in [8, 16, 32]\n",
    "        # drop_out in [0, .1, .2]\n",
    "        # num_dense in [16, 32, 64]\n",
    "        # learn_rate in [0.001, .002, .003]\n",
    "        \n",
    "        assert self.dataIsPrepared, \"Data not prepared yet. Do CNN_classifier.prepareData().\"\n",
    "        \n",
    "        tf.keras.backend.clear_session()\n",
    "        model = keras.Sequential(name='CNN_classifier')\n",
    "        model.add(layers.Conv1D(1 * num_conv, (3,), activation='relu', padding='same',\\\n",
    "                                input_shape=(self.N_feature, 1)))\n",
    "        model.add(layers.Conv1D(2 * num_conv, (3,), activation='relu', padding='same'))\n",
    "        model.add(layers.Conv1D(4 * num_conv, (3,), activation='relu', padding='same'))\n",
    "        model.add(layers.AveragePooling1D((num_pool,)))\n",
    "        model.add(layers.Flatten())\n",
    "        model.add(layers.Dropout(drop_out))\n",
    "        model.add(layers.Dense(num_dense, activation='relu'))\n",
    "        model.add(layers.Dense(num_dense, activation='relu'))\n",
    "        model.add(layers.Dense(self.N_categories, activation=tf.keras.activations.softmax))\n",
    "        \n",
    "        model.compile(loss='CategoricalCrossentropy',\\\n",
    "                      optimizer=tf.keras.optimizers.Adam(learn_rate),metrics=['accuracy'])\n",
    "\n",
    "        self.model = model\n",
    "        self.modelIsPrepared = True\n",
    "\n",
    "    #then train the neural network\n",
    "    def training(self, epochs, batch_size = 128, early = True):\n",
    "        assert self.modelIsPrepared, \"Model not prepared yet. Do CNN_classifier.CNN().\"\n",
    "        \n",
    "        #introduce early stopping\n",
    "        stop_early = tf.keras.callbacks.EarlyStopping(monitor='val_loss', patience=100)\n",
    "        \n",
    "        callbacks =[]\n",
    "        if early:\n",
    "            callbacks += [stop_early]\n",
    "    \n",
    "        self.hist = self.model.fit(self.X_train, self.Y_train, \\\n",
    "                     epochs=epochs,verbose=0,\\\n",
    "                     validation_split=.2,batch_size=batch_size,\\\n",
    "                     callbacks=callbacks)\n",
    "        self.modelIsTrained = True\n",
    "\n",
    "    def plotLoss(self):\n",
    "        assert self.modelIsTrained, \"Model not trained yet. Do CNN_classifier.training().\"\n",
    "        plt.semilogy(self.hist.history['loss'], label='loss')\n",
    "        plt.semilogy(self.hist.history['val_loss'], label = 'val loss')\n",
    "        plt.xlabel('Epoch')\n",
    "        plt.legend()\n",
    "        \n",
    "    def plotAccuracy(self):\n",
    "        assert self.modelIsTrained, \"Model not trained yet. Do CNN_classifier.training().\"\n",
    "        plt.plot(self.hist.history['accuracy'], label='accuracy')\n",
    "        plt.plot(self.hist.history['val_accuracy'], label = 'val accuracy')\n",
    "        plt.xlabel('Epoch')\n",
    "        plt.legend()\n",
    "        \n",
    "    def plotTestPrediction(self):\n",
    "        assert self.modelIsTrained, \"Model not trained yet. Do CNN_classifier.training().\"\n",
    "        plt.hist2d(self.Y_test.argmax(axis=1),\\\n",
    "                   self.model.predict(self.X_test).argmax(axis=1),\\\n",
    "                   bins=self.N_categories);\n",
    "        plt.xlabel('true')\n",
    "        plt.ylabel('predict')\n",
    "        plt.colorbar()\n",
    "        "
   ]
  },
  {
   "cell_type": "code",
   "execution_count": 59,
   "id": "informed-clark",
   "metadata": {},
   "outputs": [],
   "source": [
    "classifier = Classifier(7, 6, 1000, 1)"
   ]
  },
  {
   "cell_type": "code",
   "execution_count": 60,
   "id": "speaking-platform",
   "metadata": {},
   "outputs": [],
   "source": [
    "classifier.prepare_full_hamiltonian_data(np.linspace(0, 1, 5))"
   ]
  },
  {
   "cell_type": "code",
   "execution_count": 61,
   "id": "harmful-assessment",
   "metadata": {},
   "outputs": [],
   "source": [
    "classifier.CNN(16, 8, 0, 32, .001)"
   ]
  },
  {
   "cell_type": "code",
   "execution_count": 62,
   "id": "delayed-psychiatry",
   "metadata": {},
   "outputs": [],
   "source": [
    "classifier.training(1000)"
   ]
  },
  {
   "cell_type": "code",
   "execution_count": 63,
   "id": "inside-founder",
   "metadata": {},
   "outputs": [
    {
     "data": {
      "image/png": "[encoded data removed]",
      "text/plain": [
       "<Figure size 432x288 with 1 Axes>"
      ]
     },
     "metadata": {
      "needs_background": "light"
     },
     "output_type": "display_data"
    }
   ],
   "source": [
    "classifier.plotAccuracy()"
   ]
  },
  {
   "cell_type": "code",
   "execution_count": 64,
   "id": "first-morrison",
   "metadata": {},
   "outputs": [
    {
     "data": {
      "image/png": "[encoded data removed]",
      "text/plain": [
       "<Figure size 432x288 with 2 Axes>"
      ]
     },
     "metadata": {
      "needs_background": "light"
     },
     "output_type": "display_data"
    }
   ],
   "source": [
    "classifier.plotTestPrediction()"
   ]
  },
  {
   "cell_type": "code",
   "execution_count": 4,
   "id": "divine-inflation",
   "metadata": {},
   "outputs": [
    {
     "name": "stdout",
     "output_type": "stream",
     "text": [
      "[8, 8, 0, 32, 0.001, 0.5462500095367432]\n",
      "[8, 8, 0, 32, 0.002, 0.596875]\n",
      "[8, 8, 0, 32, 0.003, 0.5306250035762787]\n",
      "[8, 8, 0, 64, 0.001, 0.5775000035762787]\n",
      "[8, 8, 0, 64, 0.002, 0.6187500059604645]\n",
      "[8, 8, 0, 64, 0.003, 0.6275000035762787]\n",
      "[8, 8, 0.1, 32, 0.001, 0.5381249964237214]\n",
      "[8, 8, 0.1, 32, 0.002, 0.5418750047683716]\n",
      "[8, 8, 0.1, 32, 0.003, 0.5737500071525574]\n",
      "[8, 8, 0.1, 64, 0.001, 0.6393749952316284]\n",
      "[8, 8, 0.1, 64, 0.002, 0.6318749964237214]\n",
      "[8, 8, 0.1, 64, 0.003, 0.5900000035762787]\n",
      "[8, 16, 0, 32, 0.001, 0.5274999976158142]\n",
      "[8, 16, 0, 32, 0.002, 0.5675000011920929]\n",
      "[8, 16, 0, 32, 0.003, 0.5956250011920929]\n",
      "[8, 16, 0, 64, 0.001, 0.5425000071525574]\n",
      "[8, 16, 0, 64, 0.002, 0.5318750023841858]\n",
      "[8, 16, 0, 64, 0.003, 0.6075000047683716]\n",
      "[8, 16, 0.1, 32, 0.001, 0.5093749970197677]\n",
      "[8, 16, 0.1, 32, 0.002, 0.6481249988079071]\n",
      "[8, 16, 0.1, 32, 0.003, 0.5662499964237213]\n",
      "[8, 16, 0.1, 64, 0.001, 0.5581250011920929]\n",
      "[8, 16, 0.1, 64, 0.002, 0.6162500023841858]\n",
      "[8, 16, 0.1, 64, 0.003, 0.546875]\n",
      "[8, 32, 0, 32, 0.001, 0.4625000059604645]\n",
      "[8, 32, 0, 32, 0.002, 0.5000000029802323]\n",
      "[8, 32, 0, 32, 0.003, 0.5756249964237213]\n",
      "[8, 32, 0, 64, 0.001, 0.47250000238418577]\n",
      "[8, 32, 0, 64, 0.002, 0.5974999964237213]\n",
      "[8, 32, 0, 64, 0.003, 0.6012500047683715]\n",
      "[8, 32, 0.1, 32, 0.001, 0.5306249976158142]\n",
      "[8, 32, 0.1, 32, 0.002, 0.5731249928474427]\n",
      "[8, 32, 0.1, 32, 0.003, 0.47812499701976774]\n",
      "[8, 32, 0.1, 64, 0.001, 0.5524999976158143]\n",
      "[8, 32, 0.1, 64, 0.002, 0.5562500059604645]\n",
      "[8, 32, 0.1, 64, 0.003, 0.5243749976158142]\n",
      "[16, 8, 0, 32, 0.001, 0.5356250047683716]\n",
      "[16, 8, 0, 32, 0.002, 0.5068749964237214]\n",
      "[16, 8, 0, 32, 0.003, 0.5981249988079071]\n",
      "[16, 8, 0, 64, 0.001, 0.5681249976158143]\n",
      "[16, 8, 0, 64, 0.002, 0.6131249964237213]\n",
      "[16, 8, 0, 64, 0.003, 0.6900000035762787]\n",
      "[16, 8, 0.1, 32, 0.001, 0.6106250047683716]\n",
      "[16, 8, 0.1, 32, 0.002, 0.5643749952316284]\n",
      "[16, 8, 0.1, 32, 0.003, 0.5606249988079071]\n",
      "[16, 8, 0.1, 64, 0.001, 0.578125]\n",
      "[16, 8, 0.1, 64, 0.002, 0.5724999964237213]\n",
      "[16, 8, 0.1, 64, 0.003, 0.6150000035762787]\n",
      "[16, 16, 0, 32, 0.001, 0.6043749988079071]\n",
      "[16, 16, 0, 32, 0.002, 0.6637500047683715]\n",
      "[16, 16, 0, 32, 0.003, 0.628125]\n",
      "[16, 16, 0, 64, 0.001, 0.6206250071525574]\n",
      "[16, 16, 0, 64, 0.002, 0.6093750059604645]\n",
      "[16, 16, 0, 64, 0.003, 0.6137499988079071]\n",
      "[16, 16, 0.1, 32, 0.001, 0.6118749976158142]\n",
      "[16, 16, 0.1, 32, 0.002, 0.5825000047683716]\n",
      "[16, 16, 0.1, 32, 0.003, 0.6493749916553497]\n",
      "[16, 16, 0.1, 64, 0.001, 0.6300000011920929]\n",
      "[16, 16, 0.1, 64, 0.002, 0.5481249928474426]\n",
      "[16, 16, 0.1, 64, 0.003, 0.6612500011920929]\n",
      "[16, 32, 0, 32, 0.001, 0.6112500011920929]\n",
      "[16, 32, 0, 32, 0.002, 0.5831250071525573]\n",
      "[16, 32, 0, 32, 0.003, 0.5537500023841858]\n",
      "[16, 32, 0, 64, 0.001, 0.5237500071525574]\n",
      "[16, 32, 0, 64, 0.002, 0.6131250023841858]\n",
      "[16, 32, 0, 64, 0.003, 0.6012499988079071]\n",
      "[16, 32, 0.1, 32, 0.001, 0.4862499922513962]\n",
      "[16, 32, 0.1, 32, 0.002, 0.5800000011920929]\n",
      "[16, 32, 0.1, 32, 0.003, 0.575]\n",
      "[16, 32, 0.1, 64, 0.001, 0.5862499952316285]\n",
      "[16, 32, 0.1, 64, 0.002, 0.5831249952316284]\n",
      "[16, 32, 0.1, 64, 0.003, 0.6299999952316284]\n"
     ]
    }
   ],
   "source": [
    "lst = []\n",
    "for num_conv in [8, 16]:\n",
    "    for num_pool in [8, 16, 32]:\n",
    "        for drop_out in [0, .1]:\n",
    "            for num_dense in [32, 64]:\n",
    "                for learn_rate in [0.001, .002, .003]:\n",
    "\n",
    "                    classifier = Classifier(7, 4, 1000, 1)\n",
    "                    classifier.prepare_full_hamiltonian_data(np.linspace(0, 1, 11))\n",
    "                    classifier.CNN(num_conv, num_pool, drop_out, num_dense, learn_rate)\n",
    "                    classifier.training(100)\n",
    "                    \n",
    "                    avg = np.average(classifier.hist.history['val_accuracy'][-10:])\n",
    "                    print([num_conv, num_pool, drop_out, num_dense, learn_rate, avg])\n",
    "                    lst += [[num_conv, num_pool, drop_out, num_dense, learn_rate, avg]]"
   ]
  },
  {
   "cell_type": "code",
   "execution_count": 17,
   "id": "electoral-artwork",
   "metadata": {},
   "outputs": [],
   "source": [
    "lst_arr = np.array(lst)"
   ]
  },
  {
   "cell_type": "code",
   "execution_count": 18,
   "id": "fitted-medium",
   "metadata": {},
   "outputs": [],
   "source": [
    "lst_arr = lst_arr - lst_arr.min(axis = 0)"
   ]
  },
  {
   "cell_type": "code",
   "execution_count": 19,
   "id": "young-payroll",
   "metadata": {},
   "outputs": [],
   "source": [
    "lst_arr /= lst_arr.max(axis = 0) - lst_arr.min(axis = 0)"
   ]
  },
  {
   "cell_type": "code",
   "execution_count": 24,
   "id": "selected-arthur",
   "metadata": {},
   "outputs": [
    {
     "data": {
      "text/plain": [
       "array([0.36813189, 0.59065932, 0.29945054, 0.5054945 , 0.68681319,\n",
       "       0.72527472, 0.33241754, 0.3489011 , 0.489011  , 0.77747249,\n",
       "       0.74450546, 0.56043956, 0.28571425, 0.46153845, 0.58516482,\n",
       "       0.35164836, 0.30494504, 0.63736264, 0.20604392, 0.81593404,\n",
       "       0.45604392, 0.42032965, 0.67582417, 0.3708791 , 0.        ,\n",
       "       0.16483515, 0.49725271, 0.04395603, 0.59340656, 0.60989011,\n",
       "       0.29945052, 0.48626368, 0.06868128, 0.39560436, 0.41208792,\n",
       "       0.27197799, 0.32142857, 0.19505491, 0.59615382, 0.46428568,\n",
       "       0.66208788, 1.        , 0.6510989 , 0.44780216, 0.43131865,\n",
       "       0.50824174, 0.48351645, 0.67032967, 0.62362635, 0.88461539,\n",
       "       0.72802196, 0.69505496, 0.6456044 , 0.66483514, 0.65659338,\n",
       "       0.52747253, 0.82142852, 0.73626372, 0.37637357, 0.87362636,\n",
       "       0.65384614, 0.53021979, 0.40109889, 0.26923078, 0.6620879 ,\n",
       "       0.60989008, 0.10439555, 0.5164835 , 0.49450547, 0.543956  ,\n",
       "       0.53021974, 0.7362637 ])"
      ]
     },
     "execution_count": 24,
     "metadata": {},
     "output_type": "execute_result"
    }
   ],
   "source": [
    "lst_arr[:, -1]"
   ]
  },
  {
   "cell_type": "code",
   "execution_count": 29,
   "id": "protecting-technology",
   "metadata": {},
   "outputs": [
    {
     "data": {
      "text/plain": [
       "array([1., 0., 0., 1., 1., 1.])"
      ]
     },
     "execution_count": 29,
     "metadata": {},
     "output_type": "execute_result"
    }
   ],
   "source": [
    "lst_arr[lst_arr[:, -1].argmax()]"
   ]
  },
  {
   "cell_type": "code",
   "execution_count": 25,
   "id": "medieval-abortion",
   "metadata": {},
   "outputs": [
    {
     "data": {
      "text/plain": [
       "(array([ 3.,  3.,  6.,  9., 13., 12., 15.,  6.,  4.,  1.]),\n",
       " array([0. , 0.1, 0.2, 0.3, 0.4, 0.5, 0.6, 0.7, 0.8, 0.9, 1. ]),\n",
       " <BarContainer object of 10 artists>)"
      ]
     },
     "execution_count": 25,
     "metadata": {},
     "output_type": "execute_result"
    },
    {
     "data": {
      "image/png": "[encoded data removed]",
      "text/plain": [
       "<Figure size 432x288 with 1 Axes>"
      ]
     },
     "metadata": {
      "needs_background": "light"
     },
     "output_type": "display_data"
    }
   ],
   "source": [
    "plt.hist(lst_arr[:, -1])"
   ]
  },
  {
   "cell_type": "code",
   "execution_count": 28,
   "id": "direct-footwear",
   "metadata": {},
   "outputs": [
    {
     "data": {
      "image/png": "[encoded data removed]",
      "text/plain": [
       "<Figure size 432x288 with 1 Axes>"
      ]
     },
     "metadata": {
      "needs_background": "light"
     },
     "output_type": "display_data"
    }
   ],
   "source": [
    "plt.plot(lst_arr[lst_arr[:, -1] > .8].T);"
   ]
  },
  {
   "cell_type": "code",
   "execution_count": 2,
   "id": "absent-cooperative",
   "metadata": {},
   "outputs": [],
   "source": [
    "class CNN_classifier():\n",
    "    #constructor\n",
    "    def __init__(self):\n",
    "        self.dataIsPrepared = False\n",
    "        self.modelIsPrepared = False\n",
    "        self.modelIsTrained = False\n",
    "        self.alreadyReduced = False\n",
    "        \n",
    "    #load, normalize, and preprocess data\n",
    "    def prepareData(self, test_size = 0.2):\n",
    "        assert not self.dataIsPrepared, \"Data has been prepared before.\"\n",
    "        #load raw data\n",
    "        diagsN7m5 = pd.read_csv('../../../data/tobias/EC3_data/diagsN7m5.csv',names=np.arange(10000)).T\n",
    "        fidelsN7m5 = pd.read_csv('../../../data/tobias/EC3_data/fidelsN7m5.csv',names=np.arange(10000)).T\n",
    "        \n",
    "        self.N_instance, self.N_feature = diagsN7m5.shape\n",
    "        self.N_train, self.N_test = int((1-test_size)*self.N_instance), int(test_size*self.N_instance)\n",
    "        \n",
    "        #min max normalization\n",
    "        diagsN7m5 = (diagsN7m5 - diagsN7m5.to_numpy().min())\n",
    "        diagsN7m5 /= (diagsN7m5.to_numpy().max() - diagsN7m5.to_numpy().min())\n",
    "        \n",
    "        #determine categories\n",
    "        uni_fidels = np.sort(fidelsN7m5[0].unique())\n",
    "        self.N_categories = uni_fidels.shape[0]\n",
    "        \n",
    "        #create one hot representation\n",
    "        one_hot_fidels = pd.DataFrame()\n",
    "        for uni_fidel in uni_fidels:\n",
    "            one_hot_fidels[uni_fidel] = 1*(fidelsN7m5 == uni_fidel).to_numpy().flatten()\n",
    "        \n",
    "        #prepare data for CNN with one channel and normalized\n",
    "        diags_CNN = diagsN7m5.to_numpy().reshape((-1,self.N_feature,1))\n",
    "        state_CNN = np.linspace(0,1,self.N_feature)\\\n",
    "        .repeat(self.N_instance)\\\n",
    "        .reshape(self.N_feature,self.N_instance).T\\\n",
    "        .reshape((-1,self.N_feature,1))\n",
    "        diags_CNN_twoChannel = np.append(diags_CNN,state_CNN,axis=2)\n",
    "        \n",
    "        #split train/test data\n",
    "        X_train, X_test, Y_train, Y_test = train_test_split(diags_CNN_twoChannel, \\\n",
    "                                                     one_hot_fidels,\\\n",
    "                                                     test_size=test_size)\n",
    "\n",
    "        self.X_train, self.X_test, self.Y_train, self.Y_test = X_train, X_test, Y_train, Y_test \n",
    "        self.dataIsPrepared = True\n",
    "        \n",
    "    \n",
    "        \n",
    "    #first construct and compile the neural network    \n",
    "    def CNN(self):\n",
    "        assert self.dataIsPrepared, \"Data not prepared yet. Do CNN_classifier.prepareData().\"\n",
    "        \n",
    "        #build up CNN with hard-coded hyperparameters\n",
    "        tf.keras.backend.clear_session()\n",
    "        model = keras.Sequential(name='CNN_classifier')\n",
    "        model.add(layers.Conv1D(8, (3,), activation='relu', padding='same',\\\n",
    "                                input_shape=(self.N_feature, 2)))\n",
    "        model.add(layers.Conv1D(16, (3,), activation='relu', padding='same'))\n",
    "        model.add(layers.Conv1D(32, (3,), activation='relu', padding='same'))\n",
    "        model.add(layers.AveragePooling1D((16,)))\n",
    "        model.add(layers.Flatten())\n",
    "        model.add(layers.Dropout(.0))\n",
    "        model.add(layers.Dense(32, activation='relu'))\n",
    "        model.add(layers.Dense(32, activation='relu'))\n",
    "        model.add(layers.Dense(self.N_categories, activation=tf.keras.activations.softmax))\n",
    "        \n",
    "        model.compile(loss='CategoricalCrossentropy',\\\n",
    "                      optimizer=tf.keras.optimizers.Adam(.002),metrics=['accuracy'])\n",
    "\n",
    "        self.model = model\n",
    "        self.modelIsPrepared = True\n",
    "\n",
    "    #then train the neural network\n",
    "    def training(self, epochs, batch_size = 128, early = True):\n",
    "        assert self.modelIsPrepared, \"Model not prepared yet. Do CNN_classifier.CNN().\"\n",
    "        \n",
    "        #introduce early stopping\n",
    "        stop_early = tf.keras.callbacks.EarlyStopping(monitor='val_loss', patience=100)\n",
    "        \n",
    "        callbacks =[]\n",
    "        if early:\n",
    "            callbacks += [stop_early]\n",
    "    \n",
    "        self.hist = self.model.fit(self.X_train, self.Y_train, \\\n",
    "                     epochs=epochs,verbose=0,\\\n",
    "                     validation_split=.2,batch_size=batch_size,\\\n",
    "                     callbacks=callbacks)\n",
    "        self.modelIsTrained = True\n",
    "\n",
    "    def plotLoss(self):\n",
    "        assert self.modelIsTrained, \"Model not trained yet. Do CNN_classifier.training().\"\n",
    "        plt.semilogy(self.hist.history['loss'], label='loss')\n",
    "        plt.semilogy(self.hist.history['val_loss'], label = 'val loss')\n",
    "        plt.xlabel('Epoch')\n",
    "        plt.legend()\n",
    "        \n",
    "    def plotAccuracy(self):\n",
    "        assert self.modelIsTrained, \"Model not trained yet. Do CNN_classifier.training().\"\n",
    "        plt.plot(self.hist.history['accuracy'], label='accuracy')\n",
    "        plt.plot(self.hist.history['val_accuracy'], label = 'val accuracy')\n",
    "        plt.xlabel('Epoch')\n",
    "        plt.legend()\n",
    "        \n",
    "    def plotTestPrediction(self):\n",
    "        assert self.modelIsTrained, \"Model not trained yet. Do CNN_classifier.training().\"\n",
    "        plt.hist2d(self.Y_test.to_numpy().argmax(axis=1),\\\n",
    "                   self.model.predict(self.X_test).argmax(axis=1),\\\n",
    "                   bins=self.N_categories);\n",
    "        plt.xlabel('true')\n",
    "        plt.ylabel('predict')\n",
    "        plt.colorbar()\n",
    "        \n",
    "        "
   ]
  },
  {
   "cell_type": "code",
   "execution_count": 3,
   "id": "native-racing",
   "metadata": {},
   "outputs": [],
   "source": [
    "classifier = CNN_classifier()"
   ]
  },
  {
   "cell_type": "code",
   "execution_count": null,
   "id": "clean-girlfriend",
   "metadata": {},
   "outputs": [],
   "source": [
    "classifier."
   ]
  }
 ],
 "metadata": {
  "kernelspec": {
   "display_name": "Python 3",
   "language": "python",
   "name": "python3"
  },
  "language_info": {
   "codemirror_mode": {
    "name": "ipython",
    "version": 3
   },
   "file_extension": ".py",
   "mimetype": "text/x-python",
   "name": "python",
   "nbconvert_exporter": "python",
   "pygments_lexer": "ipython3",
   "version": "3.8.6"
  }
 },
 "nbformat": 4,
 "nbformat_minor": 5
}
